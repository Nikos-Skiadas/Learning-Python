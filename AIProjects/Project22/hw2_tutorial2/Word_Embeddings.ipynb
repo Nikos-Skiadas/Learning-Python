{
  "cells": [
    {
      "cell_type": "markdown",
      "source": [
        "# Word Embeddings\n",
        "\n",
        "Word embeddings are vector representations of words that capture semantic relationships. Unlike one-hot encoding or bag-of-words, embeddings preserve meaning and context.\n",
        "\n",
        "One-hot vectors treat all words as equally distant from each other—“cat” and “dog” are as different as “cat” and “carburetor.” We need a better way to encode meaning.\n",
        "\n",
        "Characteristics of Good Embeddings:\n",
        "* Dense, low-dimensional representations\n",
        "* Capture semantic similarity (e.g., king - man + woman ≈ queen)"
      ],
      "metadata": {
        "id": "WmZHmbezAsRt"
      }
    },
    {
      "cell_type": "markdown",
      "metadata": {
        "id": "lmMYUzfTNcKG"
      },
      "source": [
        "# GloVe Example"
      ]
    },
    {
      "cell_type": "markdown",
      "metadata": {
        "id": "nj6_lyUun7k4"
      },
      "source": [
        "## Download GloVe Embeddings"
      ]
    },
    {
      "cell_type": "code",
      "execution_count": null,
      "metadata": {
        "id": "hHATZ4a6ONE0",
        "collapsed": true,
        "colab": {
          "base_uri": "https://localhost:8080/"
        },
        "outputId": "feb54ef1-e802-4842-f0f7-04344d008a74"
      },
      "outputs": [
        {
          "output_type": "stream",
          "name": "stdout",
          "text": [
            "--2025-04-02 06:32:35--  http://nlp.stanford.edu/data/glove.6B.zip\n",
            "Resolving nlp.stanford.edu (nlp.stanford.edu)... 171.64.67.140\n",
            "Connecting to nlp.stanford.edu (nlp.stanford.edu)|171.64.67.140|:80... connected.\n",
            "HTTP request sent, awaiting response... 302 Found\n",
            "Location: https://nlp.stanford.edu/data/glove.6B.zip [following]\n",
            "--2025-04-02 06:32:36--  https://nlp.stanford.edu/data/glove.6B.zip\n",
            "Connecting to nlp.stanford.edu (nlp.stanford.edu)|171.64.67.140|:443... connected.\n",
            "HTTP request sent, awaiting response... 301 Moved Permanently\n",
            "Location: https://downloads.cs.stanford.edu/nlp/data/glove.6B.zip [following]\n",
            "--2025-04-02 06:32:36--  https://downloads.cs.stanford.edu/nlp/data/glove.6B.zip\n",
            "Resolving downloads.cs.stanford.edu (downloads.cs.stanford.edu)... 171.64.64.22\n",
            "Connecting to downloads.cs.stanford.edu (downloads.cs.stanford.edu)|171.64.64.22|:443... connected.\n",
            "HTTP request sent, awaiting response... 200 OK\n",
            "Length: 862182613 (822M) [application/zip]\n",
            "Saving to: ‘glove.6B.zip’\n",
            "\n",
            "glove.6B.zip        100%[===================>] 822.24M  5.05MB/s    in 2m 40s  \n",
            "\n",
            "2025-04-02 06:35:16 (5.13 MB/s) - ‘glove.6B.zip’ saved [862182613/862182613]\n",
            "\n",
            "Archive:  glove.6B.zip\n",
            "  inflating: glove.6B.50d.txt        \n",
            "  inflating: glove.6B.100d.txt       \n",
            "  inflating: glove.6B.200d.txt       \n",
            "  inflating: glove.6B.300d.txt       \n"
          ]
        }
      ],
      "source": [
        "!wget http://nlp.stanford.edu/data/glove.6B.zip\n",
        "!unzip glove*.zip"
      ]
    },
    {
      "cell_type": "markdown",
      "metadata": {
        "id": "py-j3cP6oDKI"
      },
      "source": [
        "## Transform GloVe embeddings to Word2Vec format"
      ]
    },
    {
      "cell_type": "code",
      "execution_count": null,
      "metadata": {
        "colab": {
          "base_uri": "https://localhost:8080/"
        },
        "id": "tbrKc9rlNo_D",
        "outputId": "595e6c2d-7946-4446-da38-a4567e10e44b"
      },
      "outputs": [
        {
          "output_type": "stream",
          "name": "stdout",
          "text": [
            "Requirement already satisfied: numpy==1.24.4 in /usr/local/lib/python3.11/dist-packages (1.24.4)\n"
          ]
        },
        {
          "output_type": "stream",
          "name": "stderr",
          "text": [
            "<ipython-input-1-69a91c8a8813>:10: DeprecationWarning: Call to deprecated `glove2word2vec` (KeyedVectors.load_word2vec_format(.., binary=False, no_header=True) loads GLoVE text vectors.).\n",
            "  glove2word2vec(glove_input_file, w2v_output_file) #convert GloVe vectors into the word2vec\n"
          ]
        },
        {
          "output_type": "execute_result",
          "data": {
            "text/plain": [
              "(400000, 50)"
            ]
          },
          "metadata": {},
          "execution_count": 1
        }
      ],
      "source": [
        "# !pip install gensim\n",
        "##!pip install numpy==1.24.4\n",
        "\n",
        "from gensim.scripts.glove2word2vec import glove2word2vec\n",
        "import pandas as pd\n",
        "\n",
        "glove_input_file = 'glove.6B.50d.txt'\n",
        "w2v_output_file = 'glv_with_w2v_format.txt'\n",
        "\n",
        "glove2word2vec(glove_input_file, w2v_output_file) #convert GloVe vectors into the word2vec"
      ]
    },
    {
      "cell_type": "markdown",
      "metadata": {
        "id": "np58nMYNoMM9"
      },
      "source": [
        "Observe word and respective vector"
      ]
    },
    {
      "cell_type": "code",
      "execution_count": null,
      "metadata": {
        "colab": {
          "base_uri": "https://localhost:8080/",
          "height": 708
        },
        "id": "pCzb77MmRsY9",
        "outputId": "508ea4ca-89b5-4f0c-db7d-afaeb2ea45a6"
      },
      "outputs": [
        {
          "output_type": "execute_result",
          "data": {
            "text/plain": [
              "    word                                             vector\n",
              "0    the  [0.418, 0.24968, -0.41242, 0.1217, 0.34527, -0...\n",
              "1      ,  [0.013441, 0.23682, -0.16899, 0.40951, 0.63812...\n",
              "2      .  [0.15164, 0.30177, -0.16763, 0.17684, 0.31719,...\n",
              "3     of  [0.70853, 0.57088, -0.4716, 0.18048, 0.54449, ...\n",
              "4     to  [0.68047, -0.039263, 0.30186, -0.17792, 0.4296...\n",
              "5    and  [0.26818, 0.14346, -0.27877, 0.016257, 0.11384...\n",
              "6     in  [0.33042, 0.24995, -0.60874, 0.10923, 0.036372...\n",
              "7      a  [0.21705, 0.46515, -0.46757, 0.10082, 1.0135, ...\n",
              "8      \"  [0.25769, 0.45629, -0.76974, -0.37679, 0.59272...\n",
              "9     's  [0.23727, 0.40478, -0.20547, 0.58805, 0.65533,...\n",
              "10   for  [0.15272, 0.36181, -0.22168, 0.066051, 0.13029...\n",
              "11     -  [-0.16768, 1.2151, 0.49515, 0.26836, -0.4585, ...\n",
              "12  that  [0.88387, -0.14199, 0.13566, 0.098682, 0.51218...\n",
              "13    on  [0.30045, 0.25006, -0.16692, 0.1923, 0.026921,...\n",
              "14    is  [0.6185, 0.64254, -0.46552, 0.3757, 0.74838, 0...\n",
              "15   was  [0.086888, -0.19416, -0.24267, -0.33391, 0.567...\n",
              "16  said  [0.38973, -0.2121, 0.51837, 0.80136, 1.0336, -...\n",
              "17  with  [0.25616, 0.43694, -0.11889, 0.20345, 0.41959,...\n",
              "18    he  [-0.20092, -0.060271, -0.61766, -0.8444, 0.578...\n",
              "19    as  [0.20782, 0.12713, -0.30188, -0.23125, 0.30175...\n",
              "20    it  [0.61183, -0.22072, -0.10898, -0.052967, 0.508..."
            ],
            "text/html": [
              "\n",
              "  <div id=\"df-5a3bb380-9ac2-4a60-ab15-3979376270b1\" class=\"colab-df-container\">\n",
              "    <div>\n",
              "<style scoped>\n",
              "    .dataframe tbody tr th:only-of-type {\n",
              "        vertical-align: middle;\n",
              "    }\n",
              "\n",
              "    .dataframe tbody tr th {\n",
              "        vertical-align: top;\n",
              "    }\n",
              "\n",
              "    .dataframe thead th {\n",
              "        text-align: right;\n",
              "    }\n",
              "</style>\n",
              "<table border=\"1\" class=\"dataframe\">\n",
              "  <thead>\n",
              "    <tr style=\"text-align: right;\">\n",
              "      <th></th>\n",
              "      <th>word</th>\n",
              "      <th>vector</th>\n",
              "    </tr>\n",
              "  </thead>\n",
              "  <tbody>\n",
              "    <tr>\n",
              "      <th>0</th>\n",
              "      <td>the</td>\n",
              "      <td>[0.418, 0.24968, -0.41242, 0.1217, 0.34527, -0...</td>\n",
              "    </tr>\n",
              "    <tr>\n",
              "      <th>1</th>\n",
              "      <td>,</td>\n",
              "      <td>[0.013441, 0.23682, -0.16899, 0.40951, 0.63812...</td>\n",
              "    </tr>\n",
              "    <tr>\n",
              "      <th>2</th>\n",
              "      <td>.</td>\n",
              "      <td>[0.15164, 0.30177, -0.16763, 0.17684, 0.31719,...</td>\n",
              "    </tr>\n",
              "    <tr>\n",
              "      <th>3</th>\n",
              "      <td>of</td>\n",
              "      <td>[0.70853, 0.57088, -0.4716, 0.18048, 0.54449, ...</td>\n",
              "    </tr>\n",
              "    <tr>\n",
              "      <th>4</th>\n",
              "      <td>to</td>\n",
              "      <td>[0.68047, -0.039263, 0.30186, -0.17792, 0.4296...</td>\n",
              "    </tr>\n",
              "    <tr>\n",
              "      <th>5</th>\n",
              "      <td>and</td>\n",
              "      <td>[0.26818, 0.14346, -0.27877, 0.016257, 0.11384...</td>\n",
              "    </tr>\n",
              "    <tr>\n",
              "      <th>6</th>\n",
              "      <td>in</td>\n",
              "      <td>[0.33042, 0.24995, -0.60874, 0.10923, 0.036372...</td>\n",
              "    </tr>\n",
              "    <tr>\n",
              "      <th>7</th>\n",
              "      <td>a</td>\n",
              "      <td>[0.21705, 0.46515, -0.46757, 0.10082, 1.0135, ...</td>\n",
              "    </tr>\n",
              "    <tr>\n",
              "      <th>8</th>\n",
              "      <td>\"</td>\n",
              "      <td>[0.25769, 0.45629, -0.76974, -0.37679, 0.59272...</td>\n",
              "    </tr>\n",
              "    <tr>\n",
              "      <th>9</th>\n",
              "      <td>'s</td>\n",
              "      <td>[0.23727, 0.40478, -0.20547, 0.58805, 0.65533,...</td>\n",
              "    </tr>\n",
              "    <tr>\n",
              "      <th>10</th>\n",
              "      <td>for</td>\n",
              "      <td>[0.15272, 0.36181, -0.22168, 0.066051, 0.13029...</td>\n",
              "    </tr>\n",
              "    <tr>\n",
              "      <th>11</th>\n",
              "      <td>-</td>\n",
              "      <td>[-0.16768, 1.2151, 0.49515, 0.26836, -0.4585, ...</td>\n",
              "    </tr>\n",
              "    <tr>\n",
              "      <th>12</th>\n",
              "      <td>that</td>\n",
              "      <td>[0.88387, -0.14199, 0.13566, 0.098682, 0.51218...</td>\n",
              "    </tr>\n",
              "    <tr>\n",
              "      <th>13</th>\n",
              "      <td>on</td>\n",
              "      <td>[0.30045, 0.25006, -0.16692, 0.1923, 0.026921,...</td>\n",
              "    </tr>\n",
              "    <tr>\n",
              "      <th>14</th>\n",
              "      <td>is</td>\n",
              "      <td>[0.6185, 0.64254, -0.46552, 0.3757, 0.74838, 0...</td>\n",
              "    </tr>\n",
              "    <tr>\n",
              "      <th>15</th>\n",
              "      <td>was</td>\n",
              "      <td>[0.086888, -0.19416, -0.24267, -0.33391, 0.567...</td>\n",
              "    </tr>\n",
              "    <tr>\n",
              "      <th>16</th>\n",
              "      <td>said</td>\n",
              "      <td>[0.38973, -0.2121, 0.51837, 0.80136, 1.0336, -...</td>\n",
              "    </tr>\n",
              "    <tr>\n",
              "      <th>17</th>\n",
              "      <td>with</td>\n",
              "      <td>[0.25616, 0.43694, -0.11889, 0.20345, 0.41959,...</td>\n",
              "    </tr>\n",
              "    <tr>\n",
              "      <th>18</th>\n",
              "      <td>he</td>\n",
              "      <td>[-0.20092, -0.060271, -0.61766, -0.8444, 0.578...</td>\n",
              "    </tr>\n",
              "    <tr>\n",
              "      <th>19</th>\n",
              "      <td>as</td>\n",
              "      <td>[0.20782, 0.12713, -0.30188, -0.23125, 0.30175...</td>\n",
              "    </tr>\n",
              "    <tr>\n",
              "      <th>20</th>\n",
              "      <td>it</td>\n",
              "      <td>[0.61183, -0.22072, -0.10898, -0.052967, 0.508...</td>\n",
              "    </tr>\n",
              "  </tbody>\n",
              "</table>\n",
              "</div>\n",
              "    <div class=\"colab-df-buttons\">\n",
              "\n",
              "  <div class=\"colab-df-container\">\n",
              "    <button class=\"colab-df-convert\" onclick=\"convertToInteractive('df-5a3bb380-9ac2-4a60-ab15-3979376270b1')\"\n",
              "            title=\"Convert this dataframe to an interactive table.\"\n",
              "            style=\"display:none;\">\n",
              "\n",
              "  <svg xmlns=\"http://www.w3.org/2000/svg\" height=\"24px\" viewBox=\"0 -960 960 960\">\n",
              "    <path d=\"M120-120v-720h720v720H120Zm60-500h600v-160H180v160Zm220 220h160v-160H400v160Zm0 220h160v-160H400v160ZM180-400h160v-160H180v160Zm440 0h160v-160H620v160ZM180-180h160v-160H180v160Zm440 0h160v-160H620v160Z\"/>\n",
              "  </svg>\n",
              "    </button>\n",
              "\n",
              "  <style>\n",
              "    .colab-df-container {\n",
              "      display:flex;\n",
              "      gap: 12px;\n",
              "    }\n",
              "\n",
              "    .colab-df-convert {\n",
              "      background-color: #E8F0FE;\n",
              "      border: none;\n",
              "      border-radius: 50%;\n",
              "      cursor: pointer;\n",
              "      display: none;\n",
              "      fill: #1967D2;\n",
              "      height: 32px;\n",
              "      padding: 0 0 0 0;\n",
              "      width: 32px;\n",
              "    }\n",
              "\n",
              "    .colab-df-convert:hover {\n",
              "      background-color: #E2EBFA;\n",
              "      box-shadow: 0px 1px 2px rgba(60, 64, 67, 0.3), 0px 1px 3px 1px rgba(60, 64, 67, 0.15);\n",
              "      fill: #174EA6;\n",
              "    }\n",
              "\n",
              "    .colab-df-buttons div {\n",
              "      margin-bottom: 4px;\n",
              "    }\n",
              "\n",
              "    [theme=dark] .colab-df-convert {\n",
              "      background-color: #3B4455;\n",
              "      fill: #D2E3FC;\n",
              "    }\n",
              "\n",
              "    [theme=dark] .colab-df-convert:hover {\n",
              "      background-color: #434B5C;\n",
              "      box-shadow: 0px 1px 3px 1px rgba(0, 0, 0, 0.15);\n",
              "      filter: drop-shadow(0px 1px 2px rgba(0, 0, 0, 0.3));\n",
              "      fill: #FFFFFF;\n",
              "    }\n",
              "  </style>\n",
              "\n",
              "    <script>\n",
              "      const buttonEl =\n",
              "        document.querySelector('#df-5a3bb380-9ac2-4a60-ab15-3979376270b1 button.colab-df-convert');\n",
              "      buttonEl.style.display =\n",
              "        google.colab.kernel.accessAllowed ? 'block' : 'none';\n",
              "\n",
              "      async function convertToInteractive(key) {\n",
              "        const element = document.querySelector('#df-5a3bb380-9ac2-4a60-ab15-3979376270b1');\n",
              "        const dataTable =\n",
              "          await google.colab.kernel.invokeFunction('convertToInteractive',\n",
              "                                                    [key], {});\n",
              "        if (!dataTable) return;\n",
              "\n",
              "        const docLinkHtml = 'Like what you see? Visit the ' +\n",
              "          '<a target=\"_blank\" href=https://colab.research.google.com/notebooks/data_table.ipynb>data table notebook</a>'\n",
              "          + ' to learn more about interactive tables.';\n",
              "        element.innerHTML = '';\n",
              "        dataTable['output_type'] = 'display_data';\n",
              "        await google.colab.output.renderOutput(dataTable, element);\n",
              "        const docLink = document.createElement('div');\n",
              "        docLink.innerHTML = docLinkHtml;\n",
              "        element.appendChild(docLink);\n",
              "      }\n",
              "    </script>\n",
              "  </div>\n",
              "\n",
              "\n",
              "<div id=\"df-d52584cd-67cb-45ad-9ef3-ddf138326365\">\n",
              "  <button class=\"colab-df-quickchart\" onclick=\"quickchart('df-d52584cd-67cb-45ad-9ef3-ddf138326365')\"\n",
              "            title=\"Suggest charts\"\n",
              "            style=\"display:none;\">\n",
              "\n",
              "<svg xmlns=\"http://www.w3.org/2000/svg\" height=\"24px\"viewBox=\"0 0 24 24\"\n",
              "     width=\"24px\">\n",
              "    <g>\n",
              "        <path d=\"M19 3H5c-1.1 0-2 .9-2 2v14c0 1.1.9 2 2 2h14c1.1 0 2-.9 2-2V5c0-1.1-.9-2-2-2zM9 17H7v-7h2v7zm4 0h-2V7h2v10zm4 0h-2v-4h2v4z\"/>\n",
              "    </g>\n",
              "</svg>\n",
              "  </button>\n",
              "\n",
              "<style>\n",
              "  .colab-df-quickchart {\n",
              "      --bg-color: #E8F0FE;\n",
              "      --fill-color: #1967D2;\n",
              "      --hover-bg-color: #E2EBFA;\n",
              "      --hover-fill-color: #174EA6;\n",
              "      --disabled-fill-color: #AAA;\n",
              "      --disabled-bg-color: #DDD;\n",
              "  }\n",
              "\n",
              "  [theme=dark] .colab-df-quickchart {\n",
              "      --bg-color: #3B4455;\n",
              "      --fill-color: #D2E3FC;\n",
              "      --hover-bg-color: #434B5C;\n",
              "      --hover-fill-color: #FFFFFF;\n",
              "      --disabled-bg-color: #3B4455;\n",
              "      --disabled-fill-color: #666;\n",
              "  }\n",
              "\n",
              "  .colab-df-quickchart {\n",
              "    background-color: var(--bg-color);\n",
              "    border: none;\n",
              "    border-radius: 50%;\n",
              "    cursor: pointer;\n",
              "    display: none;\n",
              "    fill: var(--fill-color);\n",
              "    height: 32px;\n",
              "    padding: 0;\n",
              "    width: 32px;\n",
              "  }\n",
              "\n",
              "  .colab-df-quickchart:hover {\n",
              "    background-color: var(--hover-bg-color);\n",
              "    box-shadow: 0 1px 2px rgba(60, 64, 67, 0.3), 0 1px 3px 1px rgba(60, 64, 67, 0.15);\n",
              "    fill: var(--button-hover-fill-color);\n",
              "  }\n",
              "\n",
              "  .colab-df-quickchart-complete:disabled,\n",
              "  .colab-df-quickchart-complete:disabled:hover {\n",
              "    background-color: var(--disabled-bg-color);\n",
              "    fill: var(--disabled-fill-color);\n",
              "    box-shadow: none;\n",
              "  }\n",
              "\n",
              "  .colab-df-spinner {\n",
              "    border: 2px solid var(--fill-color);\n",
              "    border-color: transparent;\n",
              "    border-bottom-color: var(--fill-color);\n",
              "    animation:\n",
              "      spin 1s steps(1) infinite;\n",
              "  }\n",
              "\n",
              "  @keyframes spin {\n",
              "    0% {\n",
              "      border-color: transparent;\n",
              "      border-bottom-color: var(--fill-color);\n",
              "      border-left-color: var(--fill-color);\n",
              "    }\n",
              "    20% {\n",
              "      border-color: transparent;\n",
              "      border-left-color: var(--fill-color);\n",
              "      border-top-color: var(--fill-color);\n",
              "    }\n",
              "    30% {\n",
              "      border-color: transparent;\n",
              "      border-left-color: var(--fill-color);\n",
              "      border-top-color: var(--fill-color);\n",
              "      border-right-color: var(--fill-color);\n",
              "    }\n",
              "    40% {\n",
              "      border-color: transparent;\n",
              "      border-right-color: var(--fill-color);\n",
              "      border-top-color: var(--fill-color);\n",
              "    }\n",
              "    60% {\n",
              "      border-color: transparent;\n",
              "      border-right-color: var(--fill-color);\n",
              "    }\n",
              "    80% {\n",
              "      border-color: transparent;\n",
              "      border-right-color: var(--fill-color);\n",
              "      border-bottom-color: var(--fill-color);\n",
              "    }\n",
              "    90% {\n",
              "      border-color: transparent;\n",
              "      border-bottom-color: var(--fill-color);\n",
              "    }\n",
              "  }\n",
              "</style>\n",
              "\n",
              "  <script>\n",
              "    async function quickchart(key) {\n",
              "      const quickchartButtonEl =\n",
              "        document.querySelector('#' + key + ' button');\n",
              "      quickchartButtonEl.disabled = true;  // To prevent multiple clicks.\n",
              "      quickchartButtonEl.classList.add('colab-df-spinner');\n",
              "      try {\n",
              "        const charts = await google.colab.kernel.invokeFunction(\n",
              "            'suggestCharts', [key], {});\n",
              "      } catch (error) {\n",
              "        console.error('Error during call to suggestCharts:', error);\n",
              "      }\n",
              "      quickchartButtonEl.classList.remove('colab-df-spinner');\n",
              "      quickchartButtonEl.classList.add('colab-df-quickchart-complete');\n",
              "    }\n",
              "    (() => {\n",
              "      let quickchartButtonEl =\n",
              "        document.querySelector('#df-d52584cd-67cb-45ad-9ef3-ddf138326365 button');\n",
              "      quickchartButtonEl.style.display =\n",
              "        google.colab.kernel.accessAllowed ? 'block' : 'none';\n",
              "    })();\n",
              "  </script>\n",
              "</div>\n",
              "\n",
              "  <div id=\"id_c161f1ba-a287-48f0-bf4d-bb544678580e\">\n",
              "    <style>\n",
              "      .colab-df-generate {\n",
              "        background-color: #E8F0FE;\n",
              "        border: none;\n",
              "        border-radius: 50%;\n",
              "        cursor: pointer;\n",
              "        display: none;\n",
              "        fill: #1967D2;\n",
              "        height: 32px;\n",
              "        padding: 0 0 0 0;\n",
              "        width: 32px;\n",
              "      }\n",
              "\n",
              "      .colab-df-generate:hover {\n",
              "        background-color: #E2EBFA;\n",
              "        box-shadow: 0px 1px 2px rgba(60, 64, 67, 0.3), 0px 1px 3px 1px rgba(60, 64, 67, 0.15);\n",
              "        fill: #174EA6;\n",
              "      }\n",
              "\n",
              "      [theme=dark] .colab-df-generate {\n",
              "        background-color: #3B4455;\n",
              "        fill: #D2E3FC;\n",
              "      }\n",
              "\n",
              "      [theme=dark] .colab-df-generate:hover {\n",
              "        background-color: #434B5C;\n",
              "        box-shadow: 0px 1px 3px 1px rgba(0, 0, 0, 0.15);\n",
              "        filter: drop-shadow(0px 1px 2px rgba(0, 0, 0, 0.3));\n",
              "        fill: #FFFFFF;\n",
              "      }\n",
              "    </style>\n",
              "    <button class=\"colab-df-generate\" onclick=\"generateWithVariable('w2v_df')\"\n",
              "            title=\"Generate code using this dataframe.\"\n",
              "            style=\"display:none;\">\n",
              "\n",
              "  <svg xmlns=\"http://www.w3.org/2000/svg\" height=\"24px\"viewBox=\"0 0 24 24\"\n",
              "       width=\"24px\">\n",
              "    <path d=\"M7,19H8.4L18.45,9,17,7.55,7,17.6ZM5,21V16.75L18.45,3.32a2,2,0,0,1,2.83,0l1.4,1.43a1.91,1.91,0,0,1,.58,1.4,1.91,1.91,0,0,1-.58,1.4L9.25,21ZM18.45,9,17,7.55Zm-12,3A5.31,5.31,0,0,0,4.9,8.1,5.31,5.31,0,0,0,1,6.5,5.31,5.31,0,0,0,4.9,4.9,5.31,5.31,0,0,0,6.5,1,5.31,5.31,0,0,0,8.1,4.9,5.31,5.31,0,0,0,12,6.5,5.46,5.46,0,0,0,6.5,12Z\"/>\n",
              "  </svg>\n",
              "    </button>\n",
              "    <script>\n",
              "      (() => {\n",
              "      const buttonEl =\n",
              "        document.querySelector('#id_c161f1ba-a287-48f0-bf4d-bb544678580e button.colab-df-generate');\n",
              "      buttonEl.style.display =\n",
              "        google.colab.kernel.accessAllowed ? 'block' : 'none';\n",
              "\n",
              "      buttonEl.onclick = () => {\n",
              "        google.colab.notebook.generateWithVariable('w2v_df');\n",
              "      }\n",
              "      })();\n",
              "    </script>\n",
              "  </div>\n",
              "\n",
              "    </div>\n",
              "  </div>\n"
            ],
            "application/vnd.google.colaboratory.intrinsic+json": {
              "type": "dataframe",
              "variable_name": "w2v_df",
              "summary": "{\n  \"name\": \"w2v_df\",\n  \"rows\": 21,\n  \"fields\": [\n    {\n      \"column\": \"word\",\n      \"properties\": {\n        \"dtype\": \"string\",\n        \"num_unique_values\": 21,\n        \"samples\": [\n          \"the\",\n          \"with\",\n          \"was\"\n        ],\n        \"semantic_type\": \"\",\n        \"description\": \"\"\n      }\n    },\n    {\n      \"column\": \"vector\",\n      \"properties\": {\n        \"dtype\": \"object\",\n        \"semantic_type\": \"\",\n        \"description\": \"\"\n      }\n    }\n  ]\n}"
            }
          },
          "metadata": {},
          "execution_count": 2
        }
      ],
      "source": [
        "with open(w2v_output_file, 'r') as infile:\n",
        "    w2v = infile.read().splitlines()\n",
        "\n",
        "w2v_dict = {\n",
        "    'word': [],\n",
        "    'vector': []\n",
        "}\n",
        "\n",
        "for word_vector_pair in w2v[1:22]:\n",
        "    word_vector_pair = word_vector_pair.split()\n",
        "    word = word_vector_pair[0]\n",
        "    vector = word_vector_pair[1:]\n",
        "    w2v_dict['word'].append(word)\n",
        "    w2v_dict['vector'].append(vector)\n",
        "\n",
        "w2v_df = pd.DataFrame.from_dict(w2v_dict)\n",
        "\n",
        "w2v_df"
      ]
    },
    {
      "cell_type": "code",
      "execution_count": null,
      "metadata": {
        "colab": {
          "base_uri": "https://localhost:8080/"
        },
        "id": "MVWfQFaOcpsS",
        "outputId": "5e5656cc-ceb0-45be-a529-d7bf19affe2d"
      },
      "outputs": [
        {
          "output_type": "execute_result",
          "data": {
            "text/plain": [
              "['0.418',\n",
              " '0.24968',\n",
              " '-0.41242',\n",
              " '0.1217',\n",
              " '0.34527',\n",
              " '-0.044457',\n",
              " '-0.49688',\n",
              " '-0.17862',\n",
              " '-0.00066023',\n",
              " '-0.6566',\n",
              " '0.27843',\n",
              " '-0.14767',\n",
              " '-0.55677',\n",
              " '0.14658',\n",
              " '-0.0095095',\n",
              " '0.011658',\n",
              " '0.10204',\n",
              " '-0.12792',\n",
              " '-0.8443',\n",
              " '-0.12181',\n",
              " '-0.016801',\n",
              " '-0.33279',\n",
              " '-0.1552',\n",
              " '-0.23131',\n",
              " '-0.19181',\n",
              " '-1.8823',\n",
              " '-0.76746',\n",
              " '0.099051',\n",
              " '-0.42125',\n",
              " '-0.19526',\n",
              " '4.0071',\n",
              " '-0.18594',\n",
              " '-0.52287',\n",
              " '-0.31681',\n",
              " '0.00059213',\n",
              " '0.0074449',\n",
              " '0.17778',\n",
              " '-0.15897',\n",
              " '0.012041',\n",
              " '-0.054223',\n",
              " '-0.29871',\n",
              " '-0.15749',\n",
              " '-0.34758',\n",
              " '-0.045637',\n",
              " '-0.44251',\n",
              " '0.18785',\n",
              " '0.0027849',\n",
              " '-0.18411',\n",
              " '-0.11514',\n",
              " '-0.78581']"
            ]
          },
          "metadata": {},
          "execution_count": 3
        }
      ],
      "source": [
        "w2v_df[\"vector\"][0]"
      ]
    },
    {
      "cell_type": "markdown",
      "metadata": {
        "id": "nC76FU3eoVvH"
      },
      "source": [
        "## Examples of semantically similar words"
      ]
    },
    {
      "cell_type": "code",
      "execution_count": null,
      "metadata": {
        "id": "Tf53sI0XYvBQ"
      },
      "outputs": [],
      "source": [
        "from gensim.models import KeyedVectors\n",
        "\n",
        "model = KeyedVectors.load_word2vec_format(w2v_output_file, binary=False)"
      ]
    },
    {
      "cell_type": "code",
      "execution_count": null,
      "metadata": {
        "colab": {
          "base_uri": "https://localhost:8080/"
        },
        "id": "dDPBts_GZNna",
        "outputId": "0df49990-99b3-4a21-cd97-00f95935e311"
      },
      "outputs": [
        {
          "output_type": "stream",
          "name": "stdout",
          "text": [
            "Most semantically similar to word Woman:\n",
            "\n",
            "     word            similarity score\n",
            "===========================================\n",
            "     girl           0.9065280556678772\n",
            "     man            0.8860336542129517\n",
            "     mother         0.8763704299926758\n",
            "     her            0.8613135814666748\n",
            "     boy            0.859611988067627\n",
            "     she            0.8430695533752441\n",
            "     herself        0.8224568367004395\n",
            "     child          0.8108214139938354\n",
            "     wife           0.8037394285202026\n",
            "     old            0.7982394695281982\n",
            "\n",
            "\n",
            "Most semantically similar to word Man:\n",
            "\n",
            "     word            similarity score\n",
            "===========================================\n",
            "     woman          0.8860337734222412\n",
            "     boy            0.8564431071281433\n",
            "     another        0.8452839851379395\n",
            "     old            0.8372183442115784\n",
            "     one            0.827606201171875\n",
            "     who            0.8244695663452148\n",
            "     him            0.8194693922996521\n",
            "     turned         0.8154467940330505\n",
            "     whose          0.811974048614502\n",
            "     himself        0.807725727558136\n"
          ]
        }
      ],
      "source": [
        "most_similar_woman = model.most_similar('woman')\n",
        "most_similar_man = model.most_similar('man')\n",
        "\n",
        "print(f'Most semantically similar to word Woman:')\n",
        "print(f'\\n{\" \"*5}word{\" \"*10}  similarity score')\n",
        "print(f'{\"=\"*43}')\n",
        "for w in most_similar_woman:\n",
        "    print(f'{\" \"*5}{w[0]:15}{w[1]}')\n",
        "\n",
        "print(f'\\n\\nMost semantically similar to word Man:')\n",
        "print(f'\\n{\" \"*5}word{\" \"*10}  similarity score')\n",
        "print(f'{\"=\"*43}')\n",
        "for w in most_similar_man:\n",
        "    print(f'{\" \"*5}{w[0]:15}{w[1]}')"
      ]
    },
    {
      "cell_type": "markdown",
      "metadata": {
        "id": "yRCCFzwnaW5Z"
      },
      "source": [
        "Calculate the following *semantic* equation:\n",
        " $(king - man) + woman = ?$"
      ]
    },
    {
      "cell_type": "code",
      "execution_count": null,
      "metadata": {
        "colab": {
          "base_uri": "https://localhost:8080/"
        },
        "id": "yPBTVggSaQ50",
        "outputId": "d373f835-b0bd-44b8-d1a2-698bf6fb7f70"
      },
      "outputs": [
        {
          "output_type": "execute_result",
          "data": {
            "text/plain": [
              "[('queen', 0.8523604273796082), ('throne', 0.7664334177970886)]"
            ]
          },
          "metadata": {},
          "execution_count": 6
        }
      ],
      "source": [
        "#Find the top-N most similar words. Positive words contribute positively towards the similarity, negative words negatively.\n",
        "\n",
        "result = model.most_similar(positive=['king', 'woman'], negative=['man'], topn=2)\n",
        "result"
      ]
    },
    {
      "cell_type": "markdown",
      "metadata": {
        "id": "_VNmnrbYLhK2"
      },
      "source": [
        "## Visualise Linear Substructures"
      ]
    },
    {
      "cell_type": "code",
      "execution_count": null,
      "metadata": {
        "colab": {
          "base_uri": "https://localhost:8080/",
          "height": 781
        },
        "id": "obMG5dyf1i0H",
        "outputId": "f4bc7f82-fe4e-458e-cec6-bda6ad88654b"
      },
      "outputs": [
        {
          "output_type": "display_data",
          "data": {
            "text/plain": [
              "<Figure size 1100x900 with 1 Axes>"
            ],
            "image/png": "[encoded data removed]"
          },
          "metadata": {}
        }
      ],
      "source": [
        "import warnings\n",
        "warnings.simplefilter(action='ignore', category=FutureWarning)\n",
        "\n",
        "import numpy as np\n",
        "from sklearn.manifold import TSNE\n",
        "import matplotlib.pyplot as plt\n",
        "import seaborn as sns\n",
        "\n",
        "sns.set_style(\"darkgrid\")\n",
        "sns.set_context(\"talk\",  font_scale=0.6)\n",
        "\n",
        "vocab = [\"boy\", \"girl\", \"man\", \"woman\", \"king\", \"queen\", \"banana\", \"apple\", \"mango\", \"fruit\", \"coconut\", \"orange\"]\n",
        "\n",
        "def glove_plot(model):\n",
        "    labels = []\n",
        "    wordvecs = []\n",
        "\n",
        "    for word in vocab:\n",
        "        wordvecs.append(model[word])\n",
        "        labels.append(word)\n",
        "\n",
        "    tsne_model = TSNE(perplexity=3, n_components=2, init='pca', random_state=42) #T-distributed Stochastic Neighbor Embedding\n",
        "    # coordinates = tsne_model.fit_transform(wordvecs) #The fit method is calculating the mean and variance of each of the features present in our data. The transform method is transforming all the features using the respective mean and variance.\n",
        "    coordinates = tsne_model.fit_transform(np.array(wordvecs))\n",
        "\n",
        "    x = []\n",
        "    y = []\n",
        "    for value in coordinates:\n",
        "        x.append(value[0])\n",
        "        y.append(value[1])\n",
        "\n",
        "\n",
        "    plt.figure(figsize=(11,9))\n",
        "    plt.title('Linear substructures of words with GloVe embeddings')\n",
        "    for i in range(len(x)):\n",
        "        plt.scatter(x[i],y[i])\n",
        "        plt.annotate(labels[i],\n",
        "                     xy=(x[i], y[i]),\n",
        "                     xytext=(2, 2),\n",
        "                     textcoords='offset points',\n",
        "                     ha='right',\n",
        "                     va='bottom')\n",
        "    plt.show()\n",
        "\n",
        "glove_plot(model)"
      ]
    }
  ],
  "metadata": {
    "colab": {
      "provenance": []
    },
    "kernelspec": {
      "display_name": "Python 3",
      "name": "python3"
    },
    "language_info": {
      "codemirror_mode": {
        "name": "ipython",
        "version": 3
      },
      "file_extension": ".py",
      "mimetype": "text/x-python",
      "name": "python",
      "nbconvert_exporter": "python",
      "pygments_lexer": "ipython3",
      "version": "3.9.12"
    }
  },
  "nbformat": 4,
  "nbformat_minor": 0
}