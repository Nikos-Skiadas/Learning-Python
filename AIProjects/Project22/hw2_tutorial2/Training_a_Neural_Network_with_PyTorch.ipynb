{
  "cells": [
    {
      "cell_type": "markdown",
      "metadata": {
        "id": "ruWJ4cTz794Z"
      },
      "source": [
        "# Training a Neural Network with PyTorch"
      ]
    },
    {
      "cell_type": "code",
      "execution_count": 1,
      "metadata": {
        "id": "E4yVVSMZ7YGi"
      },
      "outputs": [],
      "source": [
        "import torch\n",
        "import torch.nn as nn #Base class for all neural network modules.\n",
        "import matplotlib.pyplot as plt\n",
        "import pandas as pd"
      ]
    },
    {
      "cell_type": "markdown",
      "metadata": {
        "id": "D43h2egN8qm9"
      },
      "source": [
        "## Load data"
      ]
    },
    {
      "cell_type": "code",
      "source": [
        "# in case of colab notebook\n",
        "from google.colab import drive\n",
        "drive.mount('/content/drive')\n",
        "\n",
        "cdir = '' #path to your directory"
      ],
      "metadata": {
        "colab": {
          "base_uri": "https://localhost:8080/"
        },
        "id": "Rrkov3iIiu2M",
        "outputId": "490cc264-0ff5-4d0b-be1d-3eb7dbbdbf49"
      },
      "execution_count": 2,
      "outputs": [
        {
          "output_type": "stream",
          "name": "stdout",
          "text": [
            "Mounted at /content/drive\n"
          ]
        }
      ]
    },
    {
      "cell_type": "code",
      "execution_count": 3,
      "metadata": {
        "colab": {
          "base_uri": "https://localhost:8080/",
          "height": 300
        },
        "id": "8pm7sprm8Tvb",
        "outputId": "2dee1001-fc12-40e3-ef2b-c9eeef5b9ab7"
      },
      "outputs": [
        {
          "output_type": "execute_result",
          "data": {
            "text/plain": [
              "          longitude      latitude  housing_median_age   total_rooms  \\\n",
              "count  17000.000000  17000.000000        17000.000000  17000.000000   \n",
              "mean    -119.562108     35.625225           28.589353   2643.664412   \n",
              "std        2.005166      2.137340           12.586937   2179.947071   \n",
              "min     -124.350000     32.540000            1.000000      2.000000   \n",
              "25%     -121.790000     33.930000           18.000000   1462.000000   \n",
              "50%     -118.490000     34.250000           29.000000   2127.000000   \n",
              "75%     -118.000000     37.720000           37.000000   3151.250000   \n",
              "max     -114.310000     41.950000           52.000000  37937.000000   \n",
              "\n",
              "       total_bedrooms    population    households  median_income  \\\n",
              "count    17000.000000  17000.000000  17000.000000   17000.000000   \n",
              "mean       539.410824   1429.573941    501.221941       3.883578   \n",
              "std        421.499452   1147.852959    384.520841       1.908157   \n",
              "min          1.000000      3.000000      1.000000       0.499900   \n",
              "25%        297.000000    790.000000    282.000000       2.566375   \n",
              "50%        434.000000   1167.000000    409.000000       3.544600   \n",
              "75%        648.250000   1721.000000    605.250000       4.767000   \n",
              "max       6445.000000  35682.000000   6082.000000      15.000100   \n",
              "\n",
              "       median_house_value  \n",
              "count        17000.000000  \n",
              "mean        207300.912353  \n",
              "std         115983.764387  \n",
              "min          14999.000000  \n",
              "25%         119400.000000  \n",
              "50%         180400.000000  \n",
              "75%         265000.000000  \n",
              "max         500001.000000  "
            ],
            "text/html": [
              "\n",
              "  <div id=\"df-6332a6a3-b30c-45ff-9b09-1305031acc32\" class=\"colab-df-container\">\n",
              "    <div>\n",
              "<style scoped>\n",
              "    .dataframe tbody tr th:only-of-type {\n",
              "        vertical-align: middle;\n",
              "    }\n",
              "\n",
              "    .dataframe tbody tr th {\n",
              "        vertical-align: top;\n",
              "    }\n",
              "\n",
              "    .dataframe thead th {\n",
              "        text-align: right;\n",
              "    }\n",
              "</style>\n",
              "<table border=\"1\" class=\"dataframe\">\n",
              "  <thead>\n",
              "    <tr style=\"text-align: right;\">\n",
              "      <th></th>\n",
              "      <th>longitude</th>\n",
              "      <th>latitude</th>\n",
              "      <th>housing_median_age</th>\n",
              "      <th>total_rooms</th>\n",
              "      <th>total_bedrooms</th>\n",
              "      <th>population</th>\n",
              "      <th>households</th>\n",
              "      <th>median_income</th>\n",
              "      <th>median_house_value</th>\n",
              "    </tr>\n",
              "  </thead>\n",
              "  <tbody>\n",
              "    <tr>\n",
              "      <th>count</th>\n",
              "      <td>17000.000000</td>\n",
              "      <td>17000.000000</td>\n",
              "      <td>17000.000000</td>\n",
              "      <td>17000.000000</td>\n",
              "      <td>17000.000000</td>\n",
              "      <td>17000.000000</td>\n",
              "      <td>17000.000000</td>\n",
              "      <td>17000.000000</td>\n",
              "      <td>17000.000000</td>\n",
              "    </tr>\n",
              "    <tr>\n",
              "      <th>mean</th>\n",
              "      <td>-119.562108</td>\n",
              "      <td>35.625225</td>\n",
              "      <td>28.589353</td>\n",
              "      <td>2643.664412</td>\n",
              "      <td>539.410824</td>\n",
              "      <td>1429.573941</td>\n",
              "      <td>501.221941</td>\n",
              "      <td>3.883578</td>\n",
              "      <td>207300.912353</td>\n",
              "    </tr>\n",
              "    <tr>\n",
              "      <th>std</th>\n",
              "      <td>2.005166</td>\n",
              "      <td>2.137340</td>\n",
              "      <td>12.586937</td>\n",
              "      <td>2179.947071</td>\n",
              "      <td>421.499452</td>\n",
              "      <td>1147.852959</td>\n",
              "      <td>384.520841</td>\n",
              "      <td>1.908157</td>\n",
              "      <td>115983.764387</td>\n",
              "    </tr>\n",
              "    <tr>\n",
              "      <th>min</th>\n",
              "      <td>-124.350000</td>\n",
              "      <td>32.540000</td>\n",
              "      <td>1.000000</td>\n",
              "      <td>2.000000</td>\n",
              "      <td>1.000000</td>\n",
              "      <td>3.000000</td>\n",
              "      <td>1.000000</td>\n",
              "      <td>0.499900</td>\n",
              "      <td>14999.000000</td>\n",
              "    </tr>\n",
              "    <tr>\n",
              "      <th>25%</th>\n",
              "      <td>-121.790000</td>\n",
              "      <td>33.930000</td>\n",
              "      <td>18.000000</td>\n",
              "      <td>1462.000000</td>\n",
              "      <td>297.000000</td>\n",
              "      <td>790.000000</td>\n",
              "      <td>282.000000</td>\n",
              "      <td>2.566375</td>\n",
              "      <td>119400.000000</td>\n",
              "    </tr>\n",
              "    <tr>\n",
              "      <th>50%</th>\n",
              "      <td>-118.490000</td>\n",
              "      <td>34.250000</td>\n",
              "      <td>29.000000</td>\n",
              "      <td>2127.000000</td>\n",
              "      <td>434.000000</td>\n",
              "      <td>1167.000000</td>\n",
              "      <td>409.000000</td>\n",
              "      <td>3.544600</td>\n",
              "      <td>180400.000000</td>\n",
              "    </tr>\n",
              "    <tr>\n",
              "      <th>75%</th>\n",
              "      <td>-118.000000</td>\n",
              "      <td>37.720000</td>\n",
              "      <td>37.000000</td>\n",
              "      <td>3151.250000</td>\n",
              "      <td>648.250000</td>\n",
              "      <td>1721.000000</td>\n",
              "      <td>605.250000</td>\n",
              "      <td>4.767000</td>\n",
              "      <td>265000.000000</td>\n",
              "    </tr>\n",
              "    <tr>\n",
              "      <th>max</th>\n",
              "      <td>-114.310000</td>\n",
              "      <td>41.950000</td>\n",
              "      <td>52.000000</td>\n",
              "      <td>37937.000000</td>\n",
              "      <td>6445.000000</td>\n",
              "      <td>35682.000000</td>\n",
              "      <td>6082.000000</td>\n",
              "      <td>15.000100</td>\n",
              "      <td>500001.000000</td>\n",
              "    </tr>\n",
              "  </tbody>\n",
              "</table>\n",
              "</div>\n",
              "    <div class=\"colab-df-buttons\">\n",
              "\n",
              "  <div class=\"colab-df-container\">\n",
              "    <button class=\"colab-df-convert\" onclick=\"convertToInteractive('df-6332a6a3-b30c-45ff-9b09-1305031acc32')\"\n",
              "            title=\"Convert this dataframe to an interactive table.\"\n",
              "            style=\"display:none;\">\n",
              "\n",
              "  <svg xmlns=\"http://www.w3.org/2000/svg\" height=\"24px\" viewBox=\"0 -960 960 960\">\n",
              "    <path d=\"M120-120v-720h720v720H120Zm60-500h600v-160H180v160Zm220 220h160v-160H400v160Zm0 220h160v-160H400v160ZM180-400h160v-160H180v160Zm440 0h160v-160H620v160ZM180-180h160v-160H180v160Zm440 0h160v-160H620v160Z\"/>\n",
              "  </svg>\n",
              "    </button>\n",
              "\n",
              "  <style>\n",
              "    .colab-df-container {\n",
              "      display:flex;\n",
              "      gap: 12px;\n",
              "    }\n",
              "\n",
              "    .colab-df-convert {\n",
              "      background-color: #E8F0FE;\n",
              "      border: none;\n",
              "      border-radius: 50%;\n",
              "      cursor: pointer;\n",
              "      display: none;\n",
              "      fill: #1967D2;\n",
              "      height: 32px;\n",
              "      padding: 0 0 0 0;\n",
              "      width: 32px;\n",
              "    }\n",
              "\n",
              "    .colab-df-convert:hover {\n",
              "      background-color: #E2EBFA;\n",
              "      box-shadow: 0px 1px 2px rgba(60, 64, 67, 0.3), 0px 1px 3px 1px rgba(60, 64, 67, 0.15);\n",
              "      fill: #174EA6;\n",
              "    }\n",
              "\n",
              "    .colab-df-buttons div {\n",
              "      margin-bottom: 4px;\n",
              "    }\n",
              "\n",
              "    [theme=dark] .colab-df-convert {\n",
              "      background-color: #3B4455;\n",
              "      fill: #D2E3FC;\n",
              "    }\n",
              "\n",
              "    [theme=dark] .colab-df-convert:hover {\n",
              "      background-color: #434B5C;\n",
              "      box-shadow: 0px 1px 3px 1px rgba(0, 0, 0, 0.15);\n",
              "      filter: drop-shadow(0px 1px 2px rgba(0, 0, 0, 0.3));\n",
              "      fill: #FFFFFF;\n",
              "    }\n",
              "  </style>\n",
              "\n",
              "    <script>\n",
              "      const buttonEl =\n",
              "        document.querySelector('#df-6332a6a3-b30c-45ff-9b09-1305031acc32 button.colab-df-convert');\n",
              "      buttonEl.style.display =\n",
              "        google.colab.kernel.accessAllowed ? 'block' : 'none';\n",
              "\n",
              "      async function convertToInteractive(key) {\n",
              "        const element = document.querySelector('#df-6332a6a3-b30c-45ff-9b09-1305031acc32');\n",
              "        const dataTable =\n",
              "          await google.colab.kernel.invokeFunction('convertToInteractive',\n",
              "                                                    [key], {});\n",
              "        if (!dataTable) return;\n",
              "\n",
              "        const docLinkHtml = 'Like what you see? Visit the ' +\n",
              "          '<a target=\"_blank\" href=https://colab.research.google.com/notebooks/data_table.ipynb>data table notebook</a>'\n",
              "          + ' to learn more about interactive tables.';\n",
              "        element.innerHTML = '';\n",
              "        dataTable['output_type'] = 'display_data';\n",
              "        await google.colab.output.renderOutput(dataTable, element);\n",
              "        const docLink = document.createElement('div');\n",
              "        docLink.innerHTML = docLinkHtml;\n",
              "        element.appendChild(docLink);\n",
              "      }\n",
              "    </script>\n",
              "  </div>\n",
              "\n",
              "\n",
              "<div id=\"df-18df5cff-32a7-4ea3-b9cd-3fe8a335e1a3\">\n",
              "  <button class=\"colab-df-quickchart\" onclick=\"quickchart('df-18df5cff-32a7-4ea3-b9cd-3fe8a335e1a3')\"\n",
              "            title=\"Suggest charts\"\n",
              "            style=\"display:none;\">\n",
              "\n",
              "<svg xmlns=\"http://www.w3.org/2000/svg\" height=\"24px\"viewBox=\"0 0 24 24\"\n",
              "     width=\"24px\">\n",
              "    <g>\n",
              "        <path d=\"M19 3H5c-1.1 0-2 .9-2 2v14c0 1.1.9 2 2 2h14c1.1 0 2-.9 2-2V5c0-1.1-.9-2-2-2zM9 17H7v-7h2v7zm4 0h-2V7h2v10zm4 0h-2v-4h2v4z\"/>\n",
              "    </g>\n",
              "</svg>\n",
              "  </button>\n",
              "\n",
              "<style>\n",
              "  .colab-df-quickchart {\n",
              "      --bg-color: #E8F0FE;\n",
              "      --fill-color: #1967D2;\n",
              "      --hover-bg-color: #E2EBFA;\n",
              "      --hover-fill-color: #174EA6;\n",
              "      --disabled-fill-color: #AAA;\n",
              "      --disabled-bg-color: #DDD;\n",
              "  }\n",
              "\n",
              "  [theme=dark] .colab-df-quickchart {\n",
              "      --bg-color: #3B4455;\n",
              "      --fill-color: #D2E3FC;\n",
              "      --hover-bg-color: #434B5C;\n",
              "      --hover-fill-color: #FFFFFF;\n",
              "      --disabled-bg-color: #3B4455;\n",
              "      --disabled-fill-color: #666;\n",
              "  }\n",
              "\n",
              "  .colab-df-quickchart {\n",
              "    background-color: var(--bg-color);\n",
              "    border: none;\n",
              "    border-radius: 50%;\n",
              "    cursor: pointer;\n",
              "    display: none;\n",
              "    fill: var(--fill-color);\n",
              "    height: 32px;\n",
              "    padding: 0;\n",
              "    width: 32px;\n",
              "  }\n",
              "\n",
              "  .colab-df-quickchart:hover {\n",
              "    background-color: var(--hover-bg-color);\n",
              "    box-shadow: 0 1px 2px rgba(60, 64, 67, 0.3), 0 1px 3px 1px rgba(60, 64, 67, 0.15);\n",
              "    fill: var(--button-hover-fill-color);\n",
              "  }\n",
              "\n",
              "  .colab-df-quickchart-complete:disabled,\n",
              "  .colab-df-quickchart-complete:disabled:hover {\n",
              "    background-color: var(--disabled-bg-color);\n",
              "    fill: var(--disabled-fill-color);\n",
              "    box-shadow: none;\n",
              "  }\n",
              "\n",
              "  .colab-df-spinner {\n",
              "    border: 2px solid var(--fill-color);\n",
              "    border-color: transparent;\n",
              "    border-bottom-color: var(--fill-color);\n",
              "    animation:\n",
              "      spin 1s steps(1) infinite;\n",
              "  }\n",
              "\n",
              "  @keyframes spin {\n",
              "    0% {\n",
              "      border-color: transparent;\n",
              "      border-bottom-color: var(--fill-color);\n",
              "      border-left-color: var(--fill-color);\n",
              "    }\n",
              "    20% {\n",
              "      border-color: transparent;\n",
              "      border-left-color: var(--fill-color);\n",
              "      border-top-color: var(--fill-color);\n",
              "    }\n",
              "    30% {\n",
              "      border-color: transparent;\n",
              "      border-left-color: var(--fill-color);\n",
              "      border-top-color: var(--fill-color);\n",
              "      border-right-color: var(--fill-color);\n",
              "    }\n",
              "    40% {\n",
              "      border-color: transparent;\n",
              "      border-right-color: var(--fill-color);\n",
              "      border-top-color: var(--fill-color);\n",
              "    }\n",
              "    60% {\n",
              "      border-color: transparent;\n",
              "      border-right-color: var(--fill-color);\n",
              "    }\n",
              "    80% {\n",
              "      border-color: transparent;\n",
              "      border-right-color: var(--fill-color);\n",
              "      border-bottom-color: var(--fill-color);\n",
              "    }\n",
              "    90% {\n",
              "      border-color: transparent;\n",
              "      border-bottom-color: var(--fill-color);\n",
              "    }\n",
              "  }\n",
              "</style>\n",
              "\n",
              "  <script>\n",
              "    async function quickchart(key) {\n",
              "      const quickchartButtonEl =\n",
              "        document.querySelector('#' + key + ' button');\n",
              "      quickchartButtonEl.disabled = true;  // To prevent multiple clicks.\n",
              "      quickchartButtonEl.classList.add('colab-df-spinner');\n",
              "      try {\n",
              "        const charts = await google.colab.kernel.invokeFunction(\n",
              "            'suggestCharts', [key], {});\n",
              "      } catch (error) {\n",
              "        console.error('Error during call to suggestCharts:', error);\n",
              "      }\n",
              "      quickchartButtonEl.classList.remove('colab-df-spinner');\n",
              "      quickchartButtonEl.classList.add('colab-df-quickchart-complete');\n",
              "    }\n",
              "    (() => {\n",
              "      let quickchartButtonEl =\n",
              "        document.querySelector('#df-18df5cff-32a7-4ea3-b9cd-3fe8a335e1a3 button');\n",
              "      quickchartButtonEl.style.display =\n",
              "        google.colab.kernel.accessAllowed ? 'block' : 'none';\n",
              "    })();\n",
              "  </script>\n",
              "</div>\n",
              "\n",
              "    </div>\n",
              "  </div>\n"
            ],
            "application/vnd.google.colaboratory.intrinsic+json": {
              "type": "dataframe",
              "summary": "{\n  \"name\": \"data\",\n  \"rows\": 8,\n  \"fields\": [\n    {\n      \"column\": \"longitude\",\n      \"properties\": {\n        \"dtype\": \"number\",\n        \"std\": 6046.6451651071675,\n        \"min\": -124.35,\n        \"max\": 17000.0,\n        \"num_unique_values\": 8,\n        \"samples\": [\n          -119.5621082352941,\n          -118.49,\n          17000.0\n        ],\n        \"semantic_type\": \"\",\n        \"description\": \"\"\n      }\n    },\n    {\n      \"column\": \"latitude\",\n      \"properties\": {\n        \"dtype\": \"number\",\n        \"std\": 5999.40166383228,\n        \"min\": 2.1373397946570734,\n        \"max\": 17000.0,\n        \"num_unique_values\": 8,\n        \"samples\": [\n          35.62522470588235,\n          34.25,\n          17000.0\n        ],\n        \"semantic_type\": \"\",\n        \"description\": \"\"\n      }\n    },\n    {\n      \"column\": \"housing_median_age\",\n      \"properties\": {\n        \"dtype\": \"number\",\n        \"std\": 6001.428368089024,\n        \"min\": 1.0,\n        \"max\": 17000.0,\n        \"num_unique_values\": 8,\n        \"samples\": [\n          28.58935294117647,\n          29.0,\n          17000.0\n        ],\n        \"semantic_type\": \"\",\n        \"description\": \"\"\n      }\n    },\n    {\n      \"column\": \"total_rooms\",\n      \"properties\": {\n        \"dtype\": \"number\",\n        \"std\": 13113.353227786365,\n        \"min\": 2.0,\n        \"max\": 37937.0,\n        \"num_unique_values\": 8,\n        \"samples\": [\n          2643.664411764706,\n          2127.0,\n          17000.0\n        ],\n        \"semantic_type\": \"\",\n        \"description\": \"\"\n      }\n    },\n    {\n      \"column\": \"total_bedrooms\",\n      \"properties\": {\n        \"dtype\": \"number\",\n        \"std\": 5959.238771737063,\n        \"min\": 1.0,\n        \"max\": 17000.0,\n        \"num_unique_values\": 8,\n        \"samples\": [\n          539.4108235294118,\n          434.0,\n          17000.0\n        ],\n        \"semantic_type\": \"\",\n        \"description\": \"\"\n      }\n    },\n    {\n      \"column\": \"population\",\n      \"properties\": {\n        \"dtype\": \"number\",\n        \"std\": 12740.640658201448,\n        \"min\": 3.0,\n        \"max\": 35682.0,\n        \"num_unique_values\": 8,\n        \"samples\": [\n          1429.5739411764705,\n          1167.0,\n          17000.0\n        ],\n        \"semantic_type\": \"\",\n        \"description\": \"\"\n      }\n    },\n    {\n      \"column\": \"households\",\n      \"properties\": {\n        \"dtype\": \"number\",\n        \"std\": 5942.738122392389,\n        \"min\": 1.0,\n        \"max\": 17000.0,\n        \"num_unique_values\": 8,\n        \"samples\": [\n          501.2219411764706,\n          409.0,\n          17000.0\n        ],\n        \"semantic_type\": \"\",\n        \"description\": \"\"\n      }\n    },\n    {\n      \"column\": \"median_income\",\n      \"properties\": {\n        \"dtype\": \"number\",\n        \"std\": 6008.784464952051,\n        \"min\": 0.4999,\n        \"max\": 17000.0,\n        \"num_unique_values\": 8,\n        \"samples\": [\n          3.8835781000000007,\n          3.5446,\n          17000.0\n        ],\n        \"semantic_type\": \"\",\n        \"description\": \"\"\n      }\n    },\n    {\n      \"column\": \"median_house_value\",\n      \"properties\": {\n        \"dtype\": \"number\",\n        \"std\": 156700.95757149634,\n        \"min\": 14999.0,\n        \"max\": 500001.0,\n        \"num_unique_values\": 8,\n        \"samples\": [\n          207300.91235294117,\n          180400.0,\n          17000.0\n        ],\n        \"semantic_type\": \"\",\n        \"description\": \"\"\n      }\n    }\n  ]\n}"
            }
          },
          "metadata": {},
          "execution_count": 3
        }
      ],
      "source": [
        "data = pd.read_csv(cdir + 'california_housing_train.csv')\n",
        "data.describe()"
      ]
    },
    {
      "cell_type": "code",
      "execution_count": 4,
      "metadata": {
        "colab": {
          "base_uri": "https://localhost:8080/"
        },
        "id": "2EIP1OaJOFak",
        "outputId": "813150be-7643-4ea2-f78f-7ee203377037"
      },
      "outputs": [
        {
          "output_type": "stream",
          "name": "stdout",
          "text": [
            "x shape: torch.Size([17000, 8])\n",
            "y shape: torch.Size([17000, 1])\n"
          ]
        }
      ],
      "source": [
        "#Fill NaN values\n",
        "data = data.fillna(0)\n",
        "#Normalize values\n",
        "data = (data-data.mean())/data.std()\n",
        "#Separate features and targets\n",
        "x_df = pd.DataFrame(data, columns=data.columns[:-1])\n",
        "y_df = pd.DataFrame(data, columns=[data.columns[-1]]) #target = 'median_house_value'\n",
        "#Save in tensors\n",
        "x = torch.tensor(x_df.values, dtype=torch.float)\n",
        "y = torch.tensor(y_df.values, dtype=torch.float)\n",
        "\n",
        "print(f\"x shape: {x.shape}\")\n",
        "print(f\"y shape: {y.shape}\")"
      ]
    },
    {
      "cell_type": "markdown",
      "metadata": {
        "id": "i10vl9KnOwfE"
      },
      "source": [
        "## Create a Neural Network"
      ]
    },
    {
      "cell_type": "code",
      "execution_count": 5,
      "metadata": {
        "id": "wTlyzUiG8p5V"
      },
      "outputs": [],
      "source": [
        "class Net(nn.Module):\n",
        "    def __init__(self, D_in, H1, H2, H3, D_out):\n",
        "        super(Net, self).__init__()\n",
        "\n",
        "        self.linear1 = nn.Linear(D_in, H1) # You can also try include activation functions to check how your model will behave\n",
        "        self.linear2 = nn.Linear(H1, H2)\n",
        "        self.linear3 = nn.Linear(H2, H3)\n",
        "        self.linear4 = nn.Linear(H3, D_out)\n",
        "\n",
        "    def forward(self, x):\n",
        "        h1 = self.linear1(x)\n",
        "        h2 = self.linear2(h1)\n",
        "        h3 = self.linear3(h2)\n",
        "        out = self.linear4(h3)\n",
        "        return out"
      ]
    },
    {
      "cell_type": "code",
      "execution_count": 6,
      "metadata": {
        "id": "BXAcc2dLPPUe"
      },
      "outputs": [],
      "source": [
        "#Define layer sizes\n",
        "D_in = x.shape[1] #size of the input sample\n",
        "H1 = 128\n",
        "H2 = 64\n",
        "H3 = 32\n",
        "D_out = 1\n",
        "\n",
        "#Define Hyperparameters\n",
        "learning_rate = 1e-4 # You can also experiment with different learning rates\n",
        "\n",
        "#Initialise model, loss, optimizer\n",
        "model = Net(D_in, H1, H2, H3, D_out)\n",
        "loss_func = nn.MSELoss(reduction='sum') # You can also try BCELoss and BCEWithLogitsLoss\n",
        "optimizer = torch.optim.SGD(model.parameters(), lr=learning_rate) # You can also try Adam and AdamW\n",
        "\n",
        "#Initialise dataloader\n",
        "dataset = torch.utils.data.TensorDataset(x, y) #class to represent the data as list of tensors. x=input_features, y=labels\n",
        "dataloader = torch.utils.data.DataLoader(dataset, batch_size=64, shuffle=True)"
      ]
    },
    {
      "cell_type": "code",
      "execution_count": 7,
      "metadata": {
        "colab": {
          "base_uri": "https://localhost:8080/"
        },
        "id": "4ENFPjgHSCAV",
        "outputId": "d142ab15-1d0d-45c9-8a4e-deeadca3fcb5"
      },
      "outputs": [
        {
          "output_type": "execute_result",
          "data": {
            "text/plain": [
              "Net(\n",
              "  (linear1): Linear(in_features=8, out_features=128, bias=True)\n",
              "  (linear2): Linear(in_features=128, out_features=64, bias=True)\n",
              "  (linear3): Linear(in_features=64, out_features=32, bias=True)\n",
              "  (linear4): Linear(in_features=32, out_features=1, bias=True)\n",
              ")"
            ]
          },
          "metadata": {},
          "execution_count": 7
        }
      ],
      "source": [
        "model"
      ]
    },
    {
      "cell_type": "markdown",
      "metadata": {
        "id": "tWzZl_LRTd6J"
      },
      "source": [
        "## Train Network"
      ]
    },
    {
      "cell_type": "code",
      "execution_count": 8,
      "metadata": {
        "colab": {
          "base_uri": "https://localhost:8080/"
        },
        "id": "fck--1cFP1Rd",
        "outputId": "0557a920-274d-46b9-fd44-0f08aa15a58d"
      },
      "outputs": [
        {
          "output_type": "stream",
          "name": "stdout",
          "text": [
            "Epoch   0: Loss = 29.48857\n",
            "Epoch   1: Loss = 23.76013\n",
            "Epoch   2: Loss = 23.27231\n",
            "Epoch   3: Loss = 23.23699\n",
            "Epoch   4: Loss = 23.20877\n"
          ]
        }
      ],
      "source": [
        "for epoch in range(5):\n",
        "  batch_losses = []\n",
        "\n",
        "  for x_batch, y_batch in dataloader:\n",
        "    y_pred = model(x_batch)\n",
        "\n",
        "    loss = loss_func(y_pred, y_batch)\n",
        "    batch_losses.append(loss.item())\n",
        "    # print('y_pred=', y_pred[0])\n",
        "    #Delete previously stored gradients\n",
        "    optimizer.zero_grad()\n",
        "    #Perform backpropagation starting from the loss calculated in this epoch\n",
        "    loss.backward()\n",
        "    #Update model's weights based on the gradients calculated during backprop\n",
        "    optimizer.step()\n",
        "\n",
        "  print(f\"Epoch {epoch:3}: Loss = {sum(batch_losses)/len(dataloader):.5f}\")\n"
      ]
    },
    {
      "cell_type": "markdown",
      "source": [
        "##Optimization"
      ],
      "metadata": {
        "id": "yEkYkjUrqefs"
      }
    },
    {
      "cell_type": "markdown",
      "metadata": {
        "id": "uh7Uebn5cpsb"
      },
      "source": [
        "Optuna framework"
      ]
    },
    {
      "cell_type": "markdown",
      "metadata": {
        "id": "sNBBMGn3cpsb"
      },
      "source": [
        "Optuna Concepts\n",
        "- Objective Function: This is the function that defines the machine learning task you're trying to optimize. In our case, it includes the code for training and validating a neural network model. Optuna will run this function multiple times with different hyperparameter settings.\n",
        "\n",
        "- Trial: A trial is a single execution of the objective function using a specific set of hyperparameters. Each trial evaluates how well that particular configuration performs.\n",
        "\n",
        "- Study: A study is a collection of trials. Optuna runs several trials as part of a study to explore different hyperparameter combinations. After all trials are complete, the study helps identify the best-performing configuration—i.e., the one that minimizes (or maximizes) the objective function.\n",
        "\n",
        "- Parameter: These are the values we are trying to optimize—like learning rate, optimizer type, or layer sizes. Each trial uses a different set of parameters. The goal is to find the combination that results in the best performance of the model."
      ]
    },
    {
      "cell_type": "code",
      "execution_count": 9,
      "metadata": {
        "colab": {
          "base_uri": "https://localhost:8080/"
        },
        "id": "Nx1HXlSFcpsc",
        "outputId": "360ace41-7b6e-4db0-a928-faac32f97b8b"
      },
      "outputs": [
        {
          "output_type": "stream",
          "name": "stdout",
          "text": [
            "Collecting optuna\n",
            "  Downloading optuna-4.2.1-py3-none-any.whl.metadata (17 kB)\n",
            "Collecting alembic>=1.5.0 (from optuna)\n",
            "  Downloading alembic-1.15.2-py3-none-any.whl.metadata (7.3 kB)\n",
            "Collecting colorlog (from optuna)\n",
            "  Downloading colorlog-6.9.0-py3-none-any.whl.metadata (10 kB)\n",
            "Requirement already satisfied: numpy in /usr/local/lib/python3.11/dist-packages (from optuna) (2.0.2)\n",
            "Requirement already satisfied: packaging>=20.0 in /usr/local/lib/python3.11/dist-packages (from optuna) (24.2)\n",
            "Requirement already satisfied: sqlalchemy>=1.4.2 in /usr/local/lib/python3.11/dist-packages (from optuna) (2.0.40)\n",
            "Requirement already satisfied: tqdm in /usr/local/lib/python3.11/dist-packages (from optuna) (4.67.1)\n",
            "Requirement already satisfied: PyYAML in /usr/local/lib/python3.11/dist-packages (from optuna) (6.0.2)\n",
            "Requirement already satisfied: Mako in /usr/lib/python3/dist-packages (from alembic>=1.5.0->optuna) (1.1.3)\n",
            "Requirement already satisfied: typing-extensions>=4.12 in /usr/local/lib/python3.11/dist-packages (from alembic>=1.5.0->optuna) (4.13.0)\n",
            "Requirement already satisfied: greenlet>=1 in /usr/local/lib/python3.11/dist-packages (from sqlalchemy>=1.4.2->optuna) (3.1.1)\n",
            "Downloading optuna-4.2.1-py3-none-any.whl (383 kB)\n",
            "\u001b[2K   \u001b[90m━━━━━━━━━━━━━━━━━━━━━━━━━━━━━━━━━━━━━━━━\u001b[0m \u001b[32m383.6/383.6 kB\u001b[0m \u001b[31m22.7 MB/s\u001b[0m eta \u001b[36m0:00:00\u001b[0m\n",
            "\u001b[?25hDownloading alembic-1.15.2-py3-none-any.whl (231 kB)\n",
            "\u001b[2K   \u001b[90m━━━━━━━━━━━━━━━━━━━━━━━━━━━━━━━━━━━━━━━━\u001b[0m \u001b[32m231.9/231.9 kB\u001b[0m \u001b[31m18.5 MB/s\u001b[0m eta \u001b[36m0:00:00\u001b[0m\n",
            "\u001b[?25hDownloading colorlog-6.9.0-py3-none-any.whl (11 kB)\n",
            "Installing collected packages: colorlog, alembic, optuna\n",
            "Successfully installed alembic-1.15.2 colorlog-6.9.0 optuna-4.2.1\n"
          ]
        },
        {
          "output_type": "stream",
          "name": "stderr",
          "text": [
            "[I 2025-04-02 06:27:39,012] A new study created in memory with name: lr-minim-sample\n"
          ]
        },
        {
          "output_type": "stream",
          "name": "stdout",
          "text": [
            "Epoch   0: Loss = 31.29959\n",
            "Epoch   1: Loss = 23.51294\n",
            "Epoch   2: Loss = 23.21660\n",
            "Epoch   3: Loss = 23.17496\n"
          ]
        },
        {
          "output_type": "stream",
          "name": "stderr",
          "text": [
            "[I 2025-04-02 06:27:42,065] Trial 0 finished with value: 23.21031472198945 and parameters: {'optimizer_name': 'AdamW'}. Best is trial 0 with value: 23.21031472198945.\n"
          ]
        },
        {
          "output_type": "stream",
          "name": "stdout",
          "text": [
            "Epoch   4: Loss = 23.21031\n",
            "Epoch   0: Loss = 34.60865\n",
            "Epoch   1: Loss = 24.01241\n",
            "Epoch   2: Loss = 23.20606\n",
            "Epoch   3: Loss = 23.16348\n"
          ]
        },
        {
          "output_type": "stream",
          "name": "stderr",
          "text": [
            "[I 2025-04-02 06:27:44,722] Trial 1 finished with value: 23.13915596868759 and parameters: {'optimizer_name': 'AdamW'}. Best is trial 1 with value: 23.13915596868759.\n"
          ]
        },
        {
          "output_type": "stream",
          "name": "stdout",
          "text": [
            "Epoch   4: Loss = 23.13916\n",
            "Epoch   0: Loss = 33.57677\n",
            "Epoch   1: Loss = 23.59758\n",
            "Epoch   2: Loss = 23.20317\n",
            "Epoch   3: Loss = 23.17824\n"
          ]
        },
        {
          "output_type": "stream",
          "name": "stderr",
          "text": [
            "[I 2025-04-02 06:27:47,262] Trial 2 finished with value: 23.154956276255444 and parameters: {'optimizer_name': 'Adam'}. Best is trial 1 with value: 23.13915596868759.\n"
          ]
        },
        {
          "output_type": "stream",
          "name": "stdout",
          "text": [
            "Epoch   4: Loss = 23.15496\n",
            "Epoch   0: Loss = 34.69173\n",
            "Epoch   1: Loss = 23.84621\n",
            "Epoch   2: Loss = 23.25390\n",
            "Epoch   3: Loss = 23.17674\n"
          ]
        },
        {
          "output_type": "stream",
          "name": "stderr",
          "text": [
            "[I 2025-04-02 06:27:49,816] Trial 3 finished with value: 23.19330040135778 and parameters: {'optimizer_name': 'Adam'}. Best is trial 1 with value: 23.13915596868759.\n"
          ]
        },
        {
          "output_type": "stream",
          "name": "stdout",
          "text": [
            "Epoch   4: Loss = 23.19330\n",
            "Epoch   0: Loss = 33.00095\n",
            "Epoch   1: Loss = 23.52067\n",
            "Epoch   2: Loss = 23.23313\n",
            "Epoch   3: Loss = 23.13299\n"
          ]
        },
        {
          "output_type": "stream",
          "name": "stderr",
          "text": [
            "[I 2025-04-02 06:27:53,354] Trial 4 finished with value: 23.165939768454187 and parameters: {'optimizer_name': 'Adam'}. Best is trial 1 with value: 23.13915596868759.\n"
          ]
        },
        {
          "output_type": "stream",
          "name": "stdout",
          "text": [
            "Epoch   4: Loss = 23.16594\n",
            "Epoch   0: Loss = 34.84033\n",
            "Epoch   1: Loss = 24.02460\n",
            "Epoch   2: Loss = 23.40069\n",
            "Epoch   3: Loss = 23.22896\n"
          ]
        },
        {
          "output_type": "stream",
          "name": "stderr",
          "text": [
            "[I 2025-04-02 06:27:56,055] Trial 5 finished with value: 23.16449575137375 and parameters: {'optimizer_name': 'Adam'}. Best is trial 1 with value: 23.13915596868759.\n"
          ]
        },
        {
          "output_type": "stream",
          "name": "stdout",
          "text": [
            "Epoch   4: Loss = 23.16450\n",
            "Epoch   0: Loss = 35.76769\n",
            "Epoch   1: Loss = 23.86411\n",
            "Epoch   2: Loss = 23.36183\n",
            "Epoch   3: Loss = 23.16832\n"
          ]
        },
        {
          "output_type": "stream",
          "name": "stderr",
          "text": [
            "[I 2025-04-02 06:27:58,720] Trial 6 finished with value: 23.142048495156423 and parameters: {'optimizer_name': 'AdamW'}. Best is trial 1 with value: 23.13915596868759.\n"
          ]
        },
        {
          "output_type": "stream",
          "name": "stdout",
          "text": [
            "Epoch   4: Loss = 23.14205\n",
            "Epoch   0: Loss = 33.49070\n",
            "Epoch   1: Loss = 23.74216\n",
            "Epoch   2: Loss = 23.29572\n",
            "Epoch   3: Loss = 23.21700\n"
          ]
        },
        {
          "output_type": "stream",
          "name": "stderr",
          "text": [
            "[I 2025-04-02 06:28:01,278] Trial 7 finished with value: 23.22355135939175 and parameters: {'optimizer_name': 'Adam'}. Best is trial 1 with value: 23.13915596868759.\n"
          ]
        },
        {
          "output_type": "stream",
          "name": "stdout",
          "text": [
            "Epoch   4: Loss = 23.22355\n",
            "Epoch   0: Loss = 33.28112\n",
            "Epoch   1: Loss = 23.90244\n",
            "Epoch   2: Loss = 23.30817\n",
            "Epoch   3: Loss = 23.11854\n"
          ]
        },
        {
          "output_type": "stream",
          "name": "stderr",
          "text": [
            "[I 2025-04-02 06:28:03,955] Trial 8 finished with value: 23.124969482421875 and parameters: {'optimizer_name': 'AdamW'}. Best is trial 8 with value: 23.124969482421875.\n"
          ]
        },
        {
          "output_type": "stream",
          "name": "stdout",
          "text": [
            "Epoch   4: Loss = 23.12497\n",
            "Epoch   0: Loss = 34.03190\n",
            "Epoch   1: Loss = 23.59471\n",
            "Epoch   2: Loss = 23.17969\n",
            "Epoch   3: Loss = 23.12425\n"
          ]
        },
        {
          "output_type": "stream",
          "name": "stderr",
          "text": [
            "[I 2025-04-02 06:28:07,595] Trial 9 finished with value: 23.112174754752253 and parameters: {'optimizer_name': 'AdamW'}. Best is trial 9 with value: 23.112174754752253.\n"
          ]
        },
        {
          "output_type": "stream",
          "name": "stdout",
          "text": [
            "Epoch   4: Loss = 23.11217\n",
            "Epoch   0: Loss = 31.09470\n",
            "Epoch   1: Loss = 23.60501\n",
            "Epoch   2: Loss = 23.21930\n",
            "Epoch   3: Loss = 23.19040\n"
          ]
        },
        {
          "output_type": "stream",
          "name": "stderr",
          "text": [
            "[I 2025-04-02 06:28:10,166] Trial 10 finished with value: 23.101047476431482 and parameters: {'optimizer_name': 'AdamW'}. Best is trial 10 with value: 23.101047476431482.\n"
          ]
        },
        {
          "output_type": "stream",
          "name": "stdout",
          "text": [
            "Epoch   4: Loss = 23.10105\n",
            "Epoch   0: Loss = 35.46032\n",
            "Epoch   1: Loss = 23.86225\n",
            "Epoch   2: Loss = 23.24601\n",
            "Epoch   3: Loss = 23.15635\n"
          ]
        },
        {
          "output_type": "stream",
          "name": "stderr",
          "text": [
            "[I 2025-04-02 06:28:12,750] Trial 11 finished with value: 23.11816352829897 and parameters: {'optimizer_name': 'AdamW'}. Best is trial 10 with value: 23.101047476431482.\n"
          ]
        },
        {
          "output_type": "stream",
          "name": "stdout",
          "text": [
            "Epoch   4: Loss = 23.11816\n",
            "Epoch   0: Loss = 33.32556\n",
            "Epoch   1: Loss = 23.75517\n",
            "Epoch   2: Loss = 23.22492\n",
            "Epoch   3: Loss = 23.15171\n"
          ]
        },
        {
          "output_type": "stream",
          "name": "stderr",
          "text": [
            "[I 2025-04-02 06:28:15,311] Trial 12 finished with value: 23.11686464897672 and parameters: {'optimizer_name': 'AdamW'}. Best is trial 10 with value: 23.101047476431482.\n"
          ]
        },
        {
          "output_type": "stream",
          "name": "stdout",
          "text": [
            "Epoch   4: Loss = 23.11686\n",
            "Epoch   0: Loss = 33.67721\n",
            "Epoch   1: Loss = 23.47463\n",
            "Epoch   2: Loss = 23.15713\n",
            "Epoch   3: Loss = 23.12756\n"
          ]
        },
        {
          "output_type": "stream",
          "name": "stderr",
          "text": [
            "[I 2025-04-02 06:28:18,196] Trial 13 finished with value: 23.103127099517593 and parameters: {'optimizer_name': 'AdamW'}. Best is trial 10 with value: 23.101047476431482.\n"
          ]
        },
        {
          "output_type": "stream",
          "name": "stdout",
          "text": [
            "Epoch   4: Loss = 23.10313\n",
            "Epoch   0: Loss = 35.55361\n",
            "Epoch   1: Loss = 24.00857\n",
            "Epoch   2: Loss = 23.24708\n",
            "Epoch   3: Loss = 23.15202\n"
          ]
        },
        {
          "output_type": "stream",
          "name": "stderr",
          "text": [
            "[I 2025-04-02 06:28:21,623] Trial 14 finished with value: 23.23316358982172 and parameters: {'optimizer_name': 'AdamW'}. Best is trial 10 with value: 23.101047476431482.\n"
          ]
        },
        {
          "output_type": "stream",
          "name": "stdout",
          "text": [
            "Epoch   4: Loss = 23.23316\n",
            "Epoch   0: Loss = 33.17685\n",
            "Epoch   1: Loss = 23.73510\n",
            "Epoch   2: Loss = 23.17611\n",
            "Epoch   3: Loss = 23.14761\n"
          ]
        },
        {
          "output_type": "stream",
          "name": "stderr",
          "text": [
            "[I 2025-04-02 06:28:24,257] Trial 15 finished with value: 23.14906140736171 and parameters: {'optimizer_name': 'AdamW'}. Best is trial 10 with value: 23.101047476431482.\n"
          ]
        },
        {
          "output_type": "stream",
          "name": "stdout",
          "text": [
            "Epoch   4: Loss = 23.14906\n",
            "Epoch   0: Loss = 30.89387\n",
            "Epoch   1: Loss = 23.44758\n",
            "Epoch   2: Loss = 23.12487\n",
            "Epoch   3: Loss = 23.13638\n"
          ]
        },
        {
          "output_type": "stream",
          "name": "stderr",
          "text": [
            "[I 2025-04-02 06:28:27,414] Trial 16 finished with value: 23.040539906437235 and parameters: {'optimizer_name': 'AdamW'}. Best is trial 16 with value: 23.040539906437235.\n"
          ]
        },
        {
          "output_type": "stream",
          "name": "stdout",
          "text": [
            "Epoch   4: Loss = 23.04054\n",
            "Epoch   0: Loss = 31.21830\n",
            "Epoch   1: Loss = 23.40517\n",
            "Epoch   2: Loss = 23.14080\n",
            "Epoch   3: Loss = 23.10432\n"
          ]
        },
        {
          "output_type": "stream",
          "name": "stderr",
          "text": [
            "[I 2025-04-02 06:28:30,273] Trial 17 finished with value: 23.08905181669651 and parameters: {'optimizer_name': 'AdamW'}. Best is trial 16 with value: 23.040539906437235.\n"
          ]
        },
        {
          "output_type": "stream",
          "name": "stdout",
          "text": [
            "Epoch   4: Loss = 23.08905\n",
            "Epoch   0: Loss = 33.65367\n",
            "Epoch   1: Loss = 23.49457\n",
            "Epoch   2: Loss = 23.19788\n",
            "Epoch   3: Loss = 23.16490\n"
          ]
        },
        {
          "output_type": "stream",
          "name": "stderr",
          "text": [
            "[I 2025-04-02 06:28:33,843] Trial 18 finished with value: 23.117786518613197 and parameters: {'optimizer_name': 'AdamW'}. Best is trial 16 with value: 23.040539906437235.\n"
          ]
        },
        {
          "output_type": "stream",
          "name": "stdout",
          "text": [
            "Epoch   4: Loss = 23.11779\n",
            "Epoch   0: Loss = 32.10825\n",
            "Epoch   1: Loss = 23.37132\n",
            "Epoch   2: Loss = 23.21047\n",
            "Epoch   3: Loss = 23.13083\n"
          ]
        },
        {
          "output_type": "stream",
          "name": "stderr",
          "text": [
            "[I 2025-04-02 06:28:36,702] Trial 19 finished with value: 23.154725899373677 and parameters: {'optimizer_name': 'AdamW'}. Best is trial 16 with value: 23.040539906437235.\n"
          ]
        },
        {
          "output_type": "stream",
          "name": "stdout",
          "text": [
            "Epoch   4: Loss = 23.15473\n",
            "Epoch   0: Loss = 31.34207\n",
            "Epoch   1: Loss = 23.65640\n",
            "Epoch   2: Loss = 23.16744\n",
            "Epoch   3: Loss = 23.12192\n"
          ]
        },
        {
          "output_type": "stream",
          "name": "stderr",
          "text": [
            "[I 2025-04-02 06:28:39,330] Trial 20 finished with value: 23.1222745780658 and parameters: {'optimizer_name': 'AdamW'}. Best is trial 16 with value: 23.040539906437235.\n"
          ]
        },
        {
          "output_type": "stream",
          "name": "stdout",
          "text": [
            "Epoch   4: Loss = 23.12227\n",
            "Epoch   0: Loss = 33.05167\n",
            "Epoch   1: Loss = 23.44846\n",
            "Epoch   2: Loss = 23.12669\n",
            "Epoch   3: Loss = 23.08210\n"
          ]
        },
        {
          "output_type": "stream",
          "name": "stderr",
          "text": [
            "[I 2025-04-02 06:28:41,956] Trial 21 finished with value: 23.055470332167204 and parameters: {'optimizer_name': 'AdamW'}. Best is trial 16 with value: 23.040539906437235.\n"
          ]
        },
        {
          "output_type": "stream",
          "name": "stdout",
          "text": [
            "Epoch   4: Loss = 23.05547\n",
            "Epoch   0: Loss = 34.42663\n",
            "Epoch   1: Loss = 24.23037\n",
            "Epoch   2: Loss = 23.28181\n",
            "Epoch   3: Loss = 23.11788\n"
          ]
        },
        {
          "output_type": "stream",
          "name": "stderr",
          "text": [
            "[I 2025-04-02 06:28:44,623] Trial 22 finished with value: 23.128061853853385 and parameters: {'optimizer_name': 'AdamW'}. Best is trial 16 with value: 23.040539906437235.\n"
          ]
        },
        {
          "output_type": "stream",
          "name": "stdout",
          "text": [
            "Epoch   4: Loss = 23.12806\n",
            "Epoch   0: Loss = 32.77266\n",
            "Epoch   1: Loss = 23.68752\n",
            "Epoch   2: Loss = 23.27705\n",
            "Epoch   3: Loss = 23.25161\n"
          ]
        },
        {
          "output_type": "stream",
          "name": "stderr",
          "text": [
            "[I 2025-04-02 06:28:48,311] Trial 23 finished with value: 23.221544627856492 and parameters: {'optimizer_name': 'AdamW'}. Best is trial 16 with value: 23.040539906437235.\n"
          ]
        },
        {
          "output_type": "stream",
          "name": "stdout",
          "text": [
            "Epoch   4: Loss = 23.22154\n",
            "Epoch   0: Loss = 30.31454\n",
            "Epoch   1: Loss = 23.29962\n",
            "Epoch   2: Loss = 23.08519\n",
            "Epoch   3: Loss = 23.12082\n"
          ]
        },
        {
          "output_type": "stream",
          "name": "stderr",
          "text": [
            "[I 2025-04-02 06:28:50,919] Trial 24 finished with value: 23.145910148333787 and parameters: {'optimizer_name': 'AdamW'}. Best is trial 16 with value: 23.040539906437235.\n"
          ]
        },
        {
          "output_type": "stream",
          "name": "stdout",
          "text": [
            "Epoch   4: Loss = 23.14591\n",
            "Epoch   0: Loss = 36.38152\n",
            "Epoch   1: Loss = 24.06523\n",
            "Epoch   2: Loss = 23.17763\n",
            "Epoch   3: Loss = 23.14491\n"
          ]
        },
        {
          "output_type": "stream",
          "name": "stderr",
          "text": [
            "[I 2025-04-02 06:28:53,625] Trial 25 finished with value: 23.086922862475976 and parameters: {'optimizer_name': 'AdamW'}. Best is trial 16 with value: 23.040539906437235.\n"
          ]
        },
        {
          "output_type": "stream",
          "name": "stdout",
          "text": [
            "Epoch   4: Loss = 23.08692\n",
            "Epoch   0: Loss = 32.46458\n",
            "Epoch   1: Loss = 23.50222\n",
            "Epoch   2: Loss = 23.16698\n",
            "Epoch   3: Loss = 23.13265\n"
          ]
        },
        {
          "output_type": "stream",
          "name": "stderr",
          "text": [
            "[I 2025-04-02 06:28:56,146] Trial 26 finished with value: 23.083422058507015 and parameters: {'optimizer_name': 'Adam'}. Best is trial 16 with value: 23.040539906437235.\n"
          ]
        },
        {
          "output_type": "stream",
          "name": "stdout",
          "text": [
            "Epoch   4: Loss = 23.08342\n",
            "Epoch   0: Loss = 31.93635\n",
            "Epoch   1: Loss = 23.92028\n",
            "Epoch   2: Loss = 23.36039\n",
            "Epoch   3: Loss = 23.21987\n"
          ]
        },
        {
          "output_type": "stream",
          "name": "stderr",
          "text": [
            "[I 2025-04-02 06:28:58,956] Trial 27 finished with value: 23.14889273249117 and parameters: {'optimizer_name': 'Adam'}. Best is trial 16 with value: 23.040539906437235.\n"
          ]
        },
        {
          "output_type": "stream",
          "name": "stdout",
          "text": [
            "Epoch   4: Loss = 23.14889\n",
            "Epoch   0: Loss = 33.52912\n",
            "Epoch   1: Loss = 23.85999\n",
            "Epoch   2: Loss = 23.15931\n",
            "Epoch   3: Loss = 23.09783\n"
          ]
        },
        {
          "output_type": "stream",
          "name": "stderr",
          "text": [
            "[I 2025-04-02 06:29:02,325] Trial 28 finished with value: 23.05242924224165 and parameters: {'optimizer_name': 'Adam'}. Best is trial 16 with value: 23.040539906437235.\n"
          ]
        },
        {
          "output_type": "stream",
          "name": "stdout",
          "text": [
            "Epoch   4: Loss = 23.05243\n",
            "Epoch   0: Loss = 31.11266\n",
            "Epoch   1: Loss = 23.64379\n",
            "Epoch   2: Loss = 23.24553\n",
            "Epoch   3: Loss = 23.15510\n"
          ]
        },
        {
          "output_type": "stream",
          "name": "stderr",
          "text": [
            "[I 2025-04-02 06:29:04,862] Trial 29 finished with value: 23.18350352739033 and parameters: {'optimizer_name': 'Adam'}. Best is trial 16 with value: 23.040539906437235.\n"
          ]
        },
        {
          "output_type": "stream",
          "name": "stdout",
          "text": [
            "Epoch   4: Loss = 23.18350\n",
            "Epoch   0: Loss = 31.91802\n",
            "Epoch   1: Loss = 23.43211\n",
            "Epoch   2: Loss = 23.15399\n",
            "Epoch   3: Loss = 23.19235\n"
          ]
        },
        {
          "output_type": "stream",
          "name": "stderr",
          "text": [
            "[I 2025-04-02 06:29:07,368] Trial 30 finished with value: 23.100866927240126 and parameters: {'optimizer_name': 'Adam'}. Best is trial 16 with value: 23.040539906437235.\n"
          ]
        },
        {
          "output_type": "stream",
          "name": "stdout",
          "text": [
            "Epoch   4: Loss = 23.10087\n",
            "Epoch   0: Loss = 34.37062\n",
            "Epoch   1: Loss = 23.57260\n",
            "Epoch   2: Loss = 23.15532\n",
            "Epoch   3: Loss = 23.18915\n"
          ]
        },
        {
          "output_type": "stream",
          "name": "stderr",
          "text": [
            "[I 2025-04-02 06:29:09,872] Trial 31 finished with value: 23.228296713721484 and parameters: {'optimizer_name': 'Adam'}. Best is trial 16 with value: 23.040539906437235.\n"
          ]
        },
        {
          "output_type": "stream",
          "name": "stdout",
          "text": [
            "Epoch   4: Loss = 23.22830\n",
            "Epoch   0: Loss = 32.72234\n",
            "Epoch   1: Loss = 23.56443\n",
            "Epoch   2: Loss = 23.12470\n",
            "Epoch   3: Loss = 23.13622\n"
          ]
        },
        {
          "output_type": "stream",
          "name": "stderr",
          "text": [
            "[I 2025-04-02 06:29:12,660] Trial 32 finished with value: 23.11801931194793 and parameters: {'optimizer_name': 'Adam'}. Best is trial 16 with value: 23.040539906437235.\n"
          ]
        },
        {
          "output_type": "stream",
          "name": "stdout",
          "text": [
            "Epoch   4: Loss = 23.11802\n",
            "Epoch   0: Loss = 33.53127\n",
            "Epoch   1: Loss = 23.91110\n",
            "Epoch   2: Loss = 23.27688\n",
            "Epoch   3: Loss = 23.23181\n"
          ]
        },
        {
          "output_type": "stream",
          "name": "stderr",
          "text": [
            "[I 2025-04-02 06:29:15,956] Trial 33 finished with value: 23.144952852923172 and parameters: {'optimizer_name': 'Adam'}. Best is trial 16 with value: 23.040539906437235.\n"
          ]
        },
        {
          "output_type": "stream",
          "name": "stdout",
          "text": [
            "Epoch   4: Loss = 23.14495\n",
            "Epoch   0: Loss = 34.56350\n",
            "Epoch   1: Loss = 23.99636\n",
            "Epoch   2: Loss = 23.32643\n",
            "Epoch   3: Loss = 23.13621\n"
          ]
        },
        {
          "output_type": "stream",
          "name": "stderr",
          "text": [
            "[I 2025-04-02 06:29:18,469] Trial 34 finished with value: 23.145787934611615 and parameters: {'optimizer_name': 'Adam'}. Best is trial 16 with value: 23.040539906437235.\n"
          ]
        },
        {
          "output_type": "stream",
          "name": "stdout",
          "text": [
            "Epoch   4: Loss = 23.14579\n",
            "Epoch   0: Loss = 32.46600\n",
            "Epoch   1: Loss = 23.64442\n",
            "Epoch   2: Loss = 23.15010\n",
            "Epoch   3: Loss = 23.11385\n"
          ]
        },
        {
          "output_type": "stream",
          "name": "stderr",
          "text": [
            "[I 2025-04-02 06:29:20,945] Trial 35 finished with value: 23.093333237153246 and parameters: {'optimizer_name': 'Adam'}. Best is trial 16 with value: 23.040539906437235.\n"
          ]
        },
        {
          "output_type": "stream",
          "name": "stdout",
          "text": [
            "Epoch   4: Loss = 23.09333\n",
            "Epoch   0: Loss = 33.62105\n",
            "Epoch   1: Loss = 24.13670\n",
            "Epoch   2: Loss = 23.31429\n",
            "Epoch   3: Loss = 23.20029\n"
          ]
        },
        {
          "output_type": "stream",
          "name": "stderr",
          "text": [
            "[I 2025-04-02 06:29:23,495] Trial 36 finished with value: 23.186636634339067 and parameters: {'optimizer_name': 'Adam'}. Best is trial 16 with value: 23.040539906437235.\n"
          ]
        },
        {
          "output_type": "stream",
          "name": "stdout",
          "text": [
            "Epoch   4: Loss = 23.18664\n",
            "Epoch   0: Loss = 34.51848\n",
            "Epoch   1: Loss = 23.77005\n",
            "Epoch   2: Loss = 23.24316\n",
            "Epoch   3: Loss = 23.16058\n"
          ]
        },
        {
          "output_type": "stream",
          "name": "stderr",
          "text": [
            "[I 2025-04-02 06:29:26,312] Trial 37 finished with value: 23.081230342836307 and parameters: {'optimizer_name': 'Adam'}. Best is trial 16 with value: 23.040539906437235.\n"
          ]
        },
        {
          "output_type": "stream",
          "name": "stdout",
          "text": [
            "Epoch   4: Loss = 23.08123\n",
            "Epoch   0: Loss = 32.55698\n",
            "Epoch   1: Loss = 23.79508\n",
            "Epoch   2: Loss = 23.29917\n",
            "Epoch   3: Loss = 23.15438\n"
          ]
        },
        {
          "output_type": "stream",
          "name": "stderr",
          "text": [
            "[I 2025-04-02 06:29:29,603] Trial 38 finished with value: 23.114193159834784 and parameters: {'optimizer_name': 'Adam'}. Best is trial 16 with value: 23.040539906437235.\n"
          ]
        },
        {
          "output_type": "stream",
          "name": "stdout",
          "text": [
            "Epoch   4: Loss = 23.11419\n",
            "Epoch   0: Loss = 32.18251\n",
            "Epoch   1: Loss = 23.63748\n",
            "Epoch   2: Loss = 23.19127\n",
            "Epoch   3: Loss = 23.14381\n"
          ]
        },
        {
          "output_type": "stream",
          "name": "stderr",
          "text": [
            "[I 2025-04-02 06:29:32,106] Trial 39 finished with value: 23.084149288951902 and parameters: {'optimizer_name': 'Adam'}. Best is trial 16 with value: 23.040539906437235.\n"
          ]
        },
        {
          "output_type": "stream",
          "name": "stdout",
          "text": [
            "Epoch   4: Loss = 23.08415\n",
            "Epoch   0: Loss = 32.14786\n",
            "Epoch   1: Loss = 23.88537\n",
            "Epoch   2: Loss = 23.21603\n",
            "Epoch   3: Loss = 23.19247\n"
          ]
        },
        {
          "output_type": "stream",
          "name": "stderr",
          "text": [
            "[I 2025-04-02 06:29:34,627] Trial 40 finished with value: 23.134404687953175 and parameters: {'optimizer_name': 'Adam'}. Best is trial 16 with value: 23.040539906437235.\n"
          ]
        },
        {
          "output_type": "stream",
          "name": "stdout",
          "text": [
            "Epoch   4: Loss = 23.13440\n",
            "Epoch   0: Loss = 31.45147\n",
            "Epoch   1: Loss = 23.64441\n",
            "Epoch   2: Loss = 23.19004\n",
            "Epoch   3: Loss = 23.17815\n"
          ]
        },
        {
          "output_type": "stream",
          "name": "stderr",
          "text": [
            "[I 2025-04-02 06:29:37,158] Trial 41 finished with value: 23.172456997677795 and parameters: {'optimizer_name': 'Adam'}. Best is trial 16 with value: 23.040539906437235.\n"
          ]
        },
        {
          "output_type": "stream",
          "name": "stdout",
          "text": [
            "Epoch   4: Loss = 23.17246\n",
            "Epoch   0: Loss = 33.21847\n",
            "Epoch   1: Loss = 23.81368\n",
            "Epoch   2: Loss = 23.44036\n",
            "Epoch   3: Loss = 23.20101\n"
          ]
        },
        {
          "output_type": "stream",
          "name": "stderr",
          "text": [
            "[I 2025-04-02 06:29:40,037] Trial 42 finished with value: 23.204307541811378 and parameters: {'optimizer_name': 'Adam'}. Best is trial 16 with value: 23.040539906437235.\n"
          ]
        },
        {
          "output_type": "stream",
          "name": "stdout",
          "text": [
            "Epoch   4: Loss = 23.20431\n",
            "Epoch   0: Loss = 33.62914\n",
            "Epoch   1: Loss = 23.55669\n",
            "Epoch   2: Loss = 23.25975\n",
            "Epoch   3: Loss = 23.17095\n"
          ]
        },
        {
          "output_type": "stream",
          "name": "stderr",
          "text": [
            "[I 2025-04-02 06:29:43,268] Trial 43 finished with value: 23.136746775835082 and parameters: {'optimizer_name': 'Adam'}. Best is trial 16 with value: 23.040539906437235.\n"
          ]
        },
        {
          "output_type": "stream",
          "name": "stdout",
          "text": [
            "Epoch   4: Loss = 23.13675\n",
            "Epoch   0: Loss = 32.22704\n",
            "Epoch   1: Loss = 23.71771\n",
            "Epoch   2: Loss = 23.14250\n",
            "Epoch   3: Loss = 23.22268\n"
          ]
        },
        {
          "output_type": "stream",
          "name": "stderr",
          "text": [
            "[I 2025-04-02 06:29:45,756] Trial 44 finished with value: 23.13194851767748 and parameters: {'optimizer_name': 'Adam'}. Best is trial 16 with value: 23.040539906437235.\n"
          ]
        },
        {
          "output_type": "stream",
          "name": "stdout",
          "text": [
            "Epoch   4: Loss = 23.13195\n",
            "Epoch   0: Loss = 35.61102\n",
            "Epoch   1: Loss = 24.10051\n",
            "Epoch   2: Loss = 23.27134\n",
            "Epoch   3: Loss = 23.09242\n"
          ]
        },
        {
          "output_type": "stream",
          "name": "stderr",
          "text": [
            "[I 2025-04-02 06:29:48,254] Trial 45 finished with value: 23.113476297909155 and parameters: {'optimizer_name': 'Adam'}. Best is trial 16 with value: 23.040539906437235.\n"
          ]
        },
        {
          "output_type": "stream",
          "name": "stdout",
          "text": [
            "Epoch   4: Loss = 23.11348\n",
            "Epoch   0: Loss = 34.54420\n",
            "Epoch   1: Loss = 23.88102\n",
            "Epoch   2: Loss = 23.17306\n",
            "Epoch   3: Loss = 23.14120\n"
          ]
        },
        {
          "output_type": "stream",
          "name": "stderr",
          "text": [
            "[I 2025-04-02 06:29:50,737] Trial 46 finished with value: 23.110491239934937 and parameters: {'optimizer_name': 'Adam'}. Best is trial 16 with value: 23.040539906437235.\n"
          ]
        },
        {
          "output_type": "stream",
          "name": "stdout",
          "text": [
            "Epoch   4: Loss = 23.11049\n",
            "Epoch   0: Loss = 32.46770\n",
            "Epoch   1: Loss = 23.74761\n",
            "Epoch   2: Loss = 23.18963\n",
            "Epoch   3: Loss = 23.07579\n"
          ]
        },
        {
          "output_type": "stream",
          "name": "stderr",
          "text": [
            "[I 2025-04-02 06:29:53,715] Trial 47 finished with value: 23.056398757418297 and parameters: {'optimizer_name': 'AdamW'}. Best is trial 16 with value: 23.040539906437235.\n"
          ]
        },
        {
          "output_type": "stream",
          "name": "stdout",
          "text": [
            "Epoch   4: Loss = 23.05640\n",
            "Epoch   0: Loss = 32.43928\n",
            "Epoch   1: Loss = 23.73180\n",
            "Epoch   2: Loss = 23.19591\n",
            "Epoch   3: Loss = 23.14503\n"
          ]
        },
        {
          "output_type": "stream",
          "name": "stderr",
          "text": [
            "[I 2025-04-02 06:29:57,017] Trial 48 finished with value: 23.146095713278406 and parameters: {'optimizer_name': 'AdamW'}. Best is trial 16 with value: 23.040539906437235.\n"
          ]
        },
        {
          "output_type": "stream",
          "name": "stdout",
          "text": [
            "Epoch   4: Loss = 23.14610\n",
            "Epoch   0: Loss = 32.32622\n",
            "Epoch   1: Loss = 23.83744\n",
            "Epoch   2: Loss = 23.28816\n",
            "Epoch   3: Loss = 23.17083\n"
          ]
        },
        {
          "output_type": "stream",
          "name": "stderr",
          "text": [
            "[I 2025-04-02 06:29:59,593] Trial 49 finished with value: 23.129662976229103 and parameters: {'optimizer_name': 'AdamW'}. Best is trial 16 with value: 23.040539906437235.\n"
          ]
        },
        {
          "output_type": "stream",
          "name": "stdout",
          "text": [
            "Epoch   4: Loss = 23.12966\n",
            "numbers of the finished trials: 50\n",
            "the best params: {'optimizer_name': 'AdamW'}\n",
            "the best value: 23.040539906437235\n"
          ]
        }
      ],
      "source": [
        "# !pip install optuna\n",
        "import optuna\n",
        "\n",
        "#Optuna sample\n",
        "\n",
        "def suggest_hyperparameters(trial): #function to include the suggested hyperparameters\n",
        "    # Experimenting with different optimizers\n",
        "    optimizer_name = trial.suggest_categorical(\"optimizer_name\", [\"Adam\", \"AdamW\"])\n",
        "    return optimizer_name\n",
        "\n",
        "#Optuna sample\n",
        "def objective(trial):\n",
        "    optimizer_name = suggest_hyperparameters(trial)\n",
        "    #Define layer sizes\n",
        "    D_in = x.shape[1]\n",
        "    H1 = 128 #size of the input sample\n",
        "    H2 = 64\n",
        "    H3 = 32\n",
        "    D_out = 1\n",
        "\n",
        "    #Define Hyperparameters\n",
        "    learning_rate = 1e-4 # You can also experiment with different learning rates\n",
        "\n",
        "    #Initialise model, loss, optimizer\n",
        "    model = Net(D_in, H1, H2, H3, D_out)\n",
        "    loss_func = nn.MSELoss(reduction='sum') # You can also try BCELoss and BCEWithLogitsLoss\n",
        "    if optimizer_name == \"Adam\":\n",
        "        optimizer = torch.optim.Adam(model.parameters(), lr=learning_rate)\n",
        "    elif optimizer_name == \"AdamW\":\n",
        "        optimizer = torch.optim.AdamW(model.parameters(), lr=learning_rate)\n",
        "    # elif optimizer_name == \"SGD\":\n",
        "    #     optimizer = torch.optim.SGD(model.parameters(), lr=learning_rate)\n",
        "\n",
        "    #Initialise dataloader\n",
        "    dataset = torch.utils.data.TensorDataset(x, y) #class to represent the data as list of tensors. x=input_features, y=labels\n",
        "    dataloader = torch.utils.data.DataLoader(dataset, batch_size=64, shuffle=True)\n",
        "    for epoch in range(5):\n",
        "        batch_losses = []\n",
        "\n",
        "        for x_batch, y_batch in dataloader:\n",
        "            y_pred = model(x_batch)\n",
        "\n",
        "            loss = loss_func(y_pred, y_batch)\n",
        "            batch_losses.append(loss.item())\n",
        "            # print('y_pred=', y_pred[0])\n",
        "            #Delete previously stored gradients\n",
        "            optimizer.zero_grad()\n",
        "            #Perform backpropagation starting from the loss calculated in this epoch\n",
        "            loss.backward()\n",
        "            #Update model's weights based on the gradients calculated during backprop\n",
        "            optimizer.step()\n",
        "\n",
        "        print(f\"Epoch {epoch:3}: Loss = {sum(batch_losses)/len(dataloader):.5f}\")\n",
        "        epoch_loss = sum(batch_losses)/len(dataloader)\n",
        "    return epoch_loss\n",
        "\n",
        "optuna_sample = optuna.create_study(direction = 'minimize' , study_name = 'lr-minim-sample')\n",
        "optuna_sample.optimize(objective, n_trials = 50) #the first parameter is the function that we want to optimise\n",
        "print('numbers of the finished trials:' , len(optuna_sample.trials))\n",
        "print('the best params:' , optuna_sample.best_trial.params)\n",
        "print('the best value:' , optuna_sample.best_value)\n",
        "\n",
        "# Best number of trials appears to be 50 , as it gave me the best hyperparameters for my model."
      ]
    }
  ],
  "metadata": {
    "colab": {
      "provenance": []
    },
    "kernelspec": {
      "display_name": "Python 3",
      "name": "python3"
    },
    "language_info": {
      "codemirror_mode": {
        "name": "ipython",
        "version": 3
      },
      "file_extension": ".py",
      "mimetype": "text/x-python",
      "name": "python",
      "nbconvert_exporter": "python",
      "pygments_lexer": "ipython3",
      "version": "3.9.12"
    }
  },
  "nbformat": 4,
  "nbformat_minor": 0
}